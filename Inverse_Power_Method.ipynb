{
  "nbformat": 4,
  "nbformat_minor": 0,
  "metadata": {
    "colab": {
      "provenance": [],
      "authorship_tag": "ABX9TyOLMm6YnnfhKesLCzCVNrQv"
    },
    "kernelspec": {
      "name": "python3",
      "display_name": "Python 3"
    },
    "language_info": {
      "name": "python"
    }
  },
  "cells": [
    {
      "cell_type": "markdown",
      "source": [
        "To approximating an arbitrary eigenvalues and associated eigenvector of an $n \\times n$ matrix\n",
        "$$A\\textbf{v}=\\lambda\\textbf{v}$$\n",
        "First, let $q$ be any constant for which  $(A-qI)$ is nonsingular. \\\n",
        "Then consider\n",
        "$$B=(A-qI)^{-1}$$\n",
        "the eigenvalue of $B$ are\n",
        "$$\\mu_{\\ i}=\\frac{1}{\\lambda_{\\ i}-q}$$"
      ],
      "metadata": {
        "id": "miwiFCgZ3zac"
      }
    },
    {
      "cell_type": "code",
      "source": [
        "import sympy as sp\n",
        "def infinity_norm(arg_x):\n",
        "  i=0\n",
        "  max=0\n",
        "  max_i=0\n",
        "  for k in range(len(arg_x)):\n",
        "    i+=1\n",
        "    if abs(arg_x[k])>abs(max):\n",
        "      max=arg_x[k]\n",
        "      max_i=i\n",
        "  return [max,max_i]"
      ],
      "metadata": {
        "id": "p8l-e9kM79Pi"
      },
      "execution_count": 8,
      "outputs": []
    },
    {
      "cell_type": "code",
      "execution_count": 9,
      "metadata": {
        "id": "RRwJCqCi3KxD"
      },
      "outputs": [],
      "source": [
        "def inverse_power_method(arg_A, arg_q, x0, Nmax, tol, use_convergence_of_eigenvector=True,log=False,precision=6):\n",
        "  I_n = sp.eye(len(x0))\n",
        "  B=(arg_A-arg_q*I_n).inv()\n",
        "  x=x0\n",
        "  [inf_n,p]=infinity_norm(x)\n",
        "  mu=0\n",
        "  prev_mu=mu\n",
        "  if log:\n",
        "    print(\"A: \",arg_A)\n",
        "    print(\"B: \",B)\n",
        "    print(\"Step: 0\")\n",
        "    print(\"x: \",x.evalf(precision))\n",
        "    print(\"infinity norm: \",inf_n.evalf(precision))\n",
        "    print(\"p: \",p,'\\n')\n",
        "  for m in range(Nmax):\n",
        "    y=B*x\n",
        "    mu=y[p-1]\n",
        "    l=(1/mu)+arg_q\n",
        "    er = abs(mu-prev_mu)\n",
        "    [inf_n,p]=infinity_norm(y)\n",
        "    prev_x=x\n",
        "    prev_mu=mu\n",
        "    x=y/inf_n\n",
        "    if log:\n",
        "      print(\"Step: \",m+1)\n",
        "      print(\"x: \",x.evalf(precision))\n",
        "      print(\"y: \",y.evalf(precision))\n",
        "      print(\"mu: \",mu.evalf(precision))\n",
        "      print(\"lambda: \",l.evalf(precision))\n",
        "      print(\"infinity norm: \",inf_n.evalf(precision))\n",
        "      print(\"p: \",p,'\\n')\n",
        "    if use_convergence_of_eigenvector:\n",
        "      er = (x-prev_x).norm(sp.oo)\n",
        "    if er < tol:\n",
        "      break\n",
        "  return [x.evalf(precision),l.evalf(precision)]"
      ]
    },
    {
      "cell_type": "markdown",
      "source": [
        "$$\\textbf{A}=\n",
        "\\begin{bmatrix}\n",
        "    12&1&1&0&3\\\\\n",
        "    -1&3&0&1&0\\\\\n",
        "    1&0&-6&2&1\\\\\n",
        "    0&2&1&9&0\\\\\n",
        "    1&0&1&0&-2\n",
        "\\end{bmatrix}$$"
      ],
      "metadata": {
        "id": "24BHmqsFA771"
      }
    },
    {
      "cell_type": "code",
      "source": [
        "A=sp.Matrix([[12,1,1,0,3],\\\n",
        "      [-1,3,0,1,0],\\\n",
        "      [1,0,-6,2,1],\\\n",
        "      [0,2,1,9,0],\\\n",
        "      [1,0,1,0,-2]])\n",
        "x0=sp.Matrix([1,1,1,1,1])\n",
        "q=3\n",
        "print(\"x0:\",x0)\n",
        "Nmax=100\n",
        "tol=5*(10**-6)"
      ],
      "metadata": {
        "colab": {
          "base_uri": "https://localhost:8080/"
        },
        "id": "9dstKIbbBFWA",
        "outputId": "5c8d7bb5-f7b1-4408-9b5d-12d54fde7574"
      },
      "execution_count": 10,
      "outputs": [
        {
          "output_type": "stream",
          "name": "stdout",
          "text": [
            "x0: Matrix([[1], [1], [1], [1], [1]])\n"
          ]
        }
      ]
    },
    {
      "cell_type": "code",
      "source": [
        "[x,l]=inverse_power_method(A, q, x0, Nmax, tol)\n",
        "print(\"Solution:\\nx:\",x,\"\\nlamda\",l)"
      ],
      "metadata": {
        "colab": {
          "base_uri": "https://localhost:8080/"
        },
        "id": "qmefCy6PB3kH",
        "outputId": "ca67667b-a6ec-48b4-9a4c-4a3072ccc3c0"
      },
      "execution_count": 11,
      "outputs": [
        {
          "output_type": "stream",
          "name": "stdout",
          "text": [
            "Solution:\n",
            "x: Matrix([[-0.0876212], [1.00000], [-0.0842339], [-0.307983], [-0.0359555]]) \n",
            "lamda 2.77964\n"
          ]
        }
      ]
    },
    {
      "cell_type": "markdown",
      "source": [
        "---\n",
        "$$\\textbf{A}=\n",
        "\\begin{bmatrix}\n",
        "      16&7&-7\\\\\n",
        "      -1&2&1\\\\\n",
        "      11&7&-5\n",
        "\\end{bmatrix}, q=3$$"
      ],
      "metadata": {
        "id": "uKgnrrM4C9YU"
      }
    },
    {
      "cell_type": "code",
      "source": [
        "A=sp.Matrix([[16,7,-7],\\\n",
        "      [-1,2,1],\\\n",
        "      [11,7,-5]])\n",
        "x0=sp.Matrix([1,1,1])\n",
        "q=3\n",
        "print(\"x0:\",x0)\n",
        "Nmax=100\n",
        "tol=5*(10**-5)"
      ],
      "metadata": {
        "colab": {
          "base_uri": "https://localhost:8080/"
        },
        "id": "GMNxIiNuC-dp",
        "outputId": "e6776db2-7d32-4913-a04a-fec890c1c7e1"
      },
      "execution_count": 12,
      "outputs": [
        {
          "output_type": "stream",
          "name": "stdout",
          "text": [
            "x0: Matrix([[1], [1], [1]])\n"
          ]
        }
      ]
    },
    {
      "cell_type": "code",
      "source": [
        "[x,l]=inverse_power_method(A, q, x0, Nmax, tol,log=True)\n",
        "print(\"Solution:\\nx:\",x,\"\\nlamda\",l)"
      ],
      "metadata": {
        "colab": {
          "base_uri": "https://localhost:8080/"
        },
        "id": "8BirVq-qC-nB",
        "outputId": "af2ad607-1c47-4311-e92a-b58a9d646ab2"
      },
      "execution_count": 13,
      "outputs": [
        {
          "output_type": "stream",
          "name": "stdout",
          "text": [
            "A:  Matrix([[16, 7, -7], [-1, 2, 1], [11, 7, -5]])\n",
            "B:  Matrix([[1/6, 7/6, 0], [1/2, -9/2, -1], [2/3, -7/3, -1]])\n",
            "Step: 0\n",
            "x:  Matrix([[1.00000], [1.00000], [1.00000]])\n",
            "infinity norm:  1.00000\n",
            "p:  1 \n",
            "\n",
            "Step:  1\n",
            "x:  Matrix([[-0.266667], [1.00000], [0.533333]])\n",
            "y:  Matrix([[1.33333], [-5.00000], [-2.66667]])\n",
            "mu:  1.33333\n",
            "lambda:  3.75000\n",
            "infinity norm:  -5.00000\n",
            "p:  2 \n",
            "\n",
            "Step:  2\n",
            "x:  Matrix([[-0.217204], [1.00000], [0.589247]])\n",
            "y:  Matrix([[1.12222], [-5.16667], [-3.04444]])\n",
            "mu:  -5.16667\n",
            "lambda:  2.80645\n",
            "infinity norm:  -5.16667\n",
            "p:  2 \n",
            "\n",
            "Step:  3\n",
            "x:  Matrix([[-0.217487], [1.00000], [0.590125]])\n",
            "y:  Matrix([[1.13047], [-5.19785], [-3.06738]])\n",
            "mu:  -5.19785\n",
            "lambda:  2.80761\n",
            "infinity norm:  -5.19785\n",
            "p:  2 \n",
            "\n",
            "Step:  4\n",
            "x:  Matrix([[-0.217436], [1.00000], [0.590215]])\n",
            "y:  Matrix([[1.13042], [-5.19887], [-3.06845]])\n",
            "mu:  -5.19887\n",
            "lambda:  2.80765\n",
            "infinity norm:  -5.19887\n",
            "p:  2 \n",
            "\n",
            "Step:  5\n",
            "x:  Matrix([[-0.217435], [1.00000], [0.590218]])\n",
            "y:  Matrix([[1.13043], [-5.19893], [-3.06851]])\n",
            "mu:  -5.19893\n",
            "lambda:  2.80765\n",
            "infinity norm:  -5.19893\n",
            "p:  2 \n",
            "\n",
            "Solution:\n",
            "x: Matrix([[-0.217435], [1.00000], [0.590218]]) \n",
            "lamda 2.80765\n"
          ]
        }
      ]
    },
    {
      "cell_type": "markdown",
      "source": [
        "---\n",
        "$$\\textbf{A}=\n",
        "\\begin{bmatrix}\n",
        "      -10&-4&0&-4\\\\\n",
        "      -4&5&0&1\\\\\n",
        "      0&0&2&0\\\\\n",
        "      -4&1&0&5\n",
        "\\end{bmatrix}, q=0$$"
      ],
      "metadata": {
        "id": "EIdf_tQjC-7X"
      }
    },
    {
      "cell_type": "code",
      "source": [
        "A=sp.Matrix([[-10,-4,0,-4],\\\n",
        "      [-4,5,0,1],\\\n",
        "      [0,0,2,0],\\\n",
        "      [-4,1,0,5]])\n",
        "x0=sp.Matrix([1,1,1,1])\n",
        "q=0\n",
        "print(\"x0:\",x0)\n",
        "Nmax=100\n",
        "tol=5*(10**-5)"
      ],
      "metadata": {
        "colab": {
          "base_uri": "https://localhost:8080/"
        },
        "id": "6vWKDxPNC_Fd",
        "outputId": "53647f05-c5d3-4fa8-ef40-2cda2b29d84d"
      },
      "execution_count": 16,
      "outputs": [
        {
          "output_type": "stream",
          "name": "stdout",
          "text": [
            "x0: Matrix([[1], [1], [1], [1]])\n"
          ]
        }
      ]
    },
    {
      "cell_type": "code",
      "source": [
        "[x,l]=inverse_power_method(A, q, x0, Nmax, tol,log=True)\n",
        "print(\"Solution:\\nx:\",x,\"\\nlamda\",l)"
      ],
      "metadata": {
        "colab": {
          "base_uri": "https://localhost:8080/"
        },
        "id": "LsA7IiE_C_KK",
        "outputId": "ad82116d-825a-4f54-fa23-a14613c02212"
      },
      "execution_count": 17,
      "outputs": [
        {
          "output_type": "stream",
          "name": "stdout",
          "text": [
            "A:  Matrix([[-10, -4, 0, -4], [-4, 5, 0, 1], [0, 0, 2, 0], [-4, 1, 0, 5]])\n",
            "B:  Matrix([[-3/46, -1/23, 0, -1/23], [-1/23, 33/184, 0, -13/184], [0, 0, 1/2, 0], [-1/23, -13/184, 0, 33/184]])\n",
            "Step: 0\n",
            "x:  Matrix([[1.00000], [1.00000], [1.00000], [1.00000]])\n",
            "infinity norm:  1.00000\n",
            "p:  1 \n",
            "\n",
            "Step:  1\n",
            "x:  Matrix([[-0.304348], [0.130435], [1.00000], [0.130435]])\n",
            "y:  Matrix([[-0.152174], [0.0652174], [0.500000], [0.0652174]])\n",
            "mu:  -0.152174\n",
            "lambda:  -6.57143\n",
            "infinity norm:  0.500000\n",
            "p:  3 \n",
            "\n",
            "Step:  2\n",
            "x:  Matrix([[0.0170132], [0.0548204], [1.00000], [0.0548204]])\n",
            "y:  Matrix([[0.00850662], [0.0274102], [0.500000], [0.0274102]])\n",
            "mu:  0.500000\n",
            "lambda:  2.00000\n",
            "infinity norm:  0.500000\n",
            "p:  3 \n",
            "\n",
            "Step:  3\n",
            "x:  Matrix([[-0.0117531], [0.0104381], [1.00000], [0.0104381]])\n",
            "y:  Matrix([[-0.00587655], [0.00521903], [0.500000], [0.00521903]])\n",
            "mu:  0.500000\n",
            "lambda:  2.00000\n",
            "infinity norm:  0.500000\n",
            "p:  3 \n",
            "\n",
            "Step:  4\n",
            "x:  Matrix([[-0.000282303], [0.00329115], [1.00000], [0.00329115]])\n",
            "y:  Matrix([[-0.000141152], [0.00164558], [0.500000], [0.00164558]])\n",
            "mu:  0.500000\n",
            "lambda:  2.00000\n",
            "infinity norm:  0.500000\n",
            "p:  3 \n",
            "\n",
            "Step:  5\n",
            "x:  Matrix([[-0.000535553], [0.000740016], [1.00000], [0.000740016]])\n",
            "y:  Matrix([[-0.000267776], [0.000370008], [0.500000], [0.000370008]])\n",
            "mu:  0.500000\n",
            "lambda:  2.00000\n",
            "infinity norm:  0.500000\n",
            "p:  3 \n",
            "\n",
            "Step:  6\n",
            "x:  Matrix([[-5.88438e-5], [0.000207443], [1.00000], [0.000207443]])\n",
            "y:  Matrix([[-2.94219e-5], [0.000103721], [0.500000], [0.000103721]])\n",
            "mu:  0.500000\n",
            "lambda:  2.00000\n",
            "infinity norm:  0.500000\n",
            "p:  3 \n",
            "\n",
            "Step:  7\n",
            "x:  Matrix([[-2.84018e-5], [5.02131e-5], [1.00000], [5.02131e-5]])\n",
            "y:  Matrix([[-1.42009e-5], [2.51066e-5], [0.500000], [2.51066e-5]])\n",
            "mu:  0.500000\n",
            "lambda:  2.00000\n",
            "infinity norm:  0.500000\n",
            "p:  3 \n",
            "\n",
            "Step:  8\n",
            "x:  Matrix([[-5.02815e-6], [1.33856e-5], [1.00000], [1.33856e-5]])\n",
            "y:  Matrix([[-2.51407e-6], [6.69281e-6], [0.500000], [6.69281e-6]])\n",
            "mu:  0.500000\n",
            "lambda:  2.00000\n",
            "infinity norm:  0.500000\n",
            "p:  3 \n",
            "\n",
            "Solution:\n",
            "x: Matrix([[-5.02815e-6], [1.33856e-5], [1.00000], [1.33856e-5]]) \n",
            "lamda 2.00000\n"
          ]
        }
      ]
    }
  ]
}