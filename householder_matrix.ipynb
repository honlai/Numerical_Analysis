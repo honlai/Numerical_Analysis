{
  "nbformat": 4,
  "nbformat_minor": 0,
  "metadata": {
    "colab": {
      "provenance": [],
      "authorship_tag": "ABX9TyMStfABjvnCIxWgbvhICaSX"
    },
    "kernelspec": {
      "name": "python3",
      "display_name": "Python 3"
    },
    "language_info": {
      "name": "python"
    }
  },
  "cells": [
    {
      "cell_type": "markdown",
      "source": [
        "##Reducing a Symmetric Matrix to Tridiagonal Form\n",
        "###Definition of Householder Matrix\n",
        "$$H=I-2\\textbf{ww}^T$$\n",
        "where $\\textbf{w}$ is a column vector with $\\textbf{w}^T\\textbf{w}=1$ \\\\\n",
        "Then $H=H^T=H^{-1}$ is Symmetric , Orthogonal, Involution"
      ],
      "metadata": {
        "id": "B3yJIC0ftCuI"
      }
    },
    {
      "cell_type": "code",
      "execution_count": 278,
      "metadata": {
        "id": "O5UlNUBxuXHW"
      },
      "outputs": [],
      "source": [
        "import sympy as sp\n",
        "def sgn(x):\n",
        "  if (x >= 0):\n",
        "    sign=1\n",
        "  else:\n",
        "    sign=-1\n",
        "  return sign\n",
        "def symmetric2tridiagonal(arg_A,log=False):\n",
        "  n=len(arg_A.row(0))\n",
        "  HAH=arg_A\n",
        "  if log:\n",
        "    print(\"A=\\n\")\n",
        "    sp.pprint(arg_A)\n",
        "  for m in range(n-2):\n",
        "    k=abs(n-1-m)\n",
        "    x=HAH.row(k)\n",
        "    #alpha\n",
        "    alpha=sum(x[j] ** 2 for j in range(k))\n",
        "    alpha=sp.sqrt(alpha)\n",
        "    alpha*=-1*sgn(x[k-1])\n",
        "    #w\n",
        "    w_matrix = sp.Matrix.zeros(1, n)\n",
        "    w_matrix[k-1]=sp.sqrt((1-(x[k-1]/alpha))/2)\n",
        "    for i in range(k-1):\n",
        "      w_matrix[i]=-(x[i]/(alpha*w_matrix[k-1]))/2\n",
        "    #u\n",
        "    u=HAH@w_matrix.T\n",
        "    K=w_matrix.dot(u.T)\n",
        "    q=u.T-K*w_matrix\n",
        "\n",
        "    tmp = -2*w_matrix.T@q -2*q.T@w_matrix\n",
        "    HAH+=tmp\n",
        "    if log:\n",
        "      print(f\"k={m+1}\")\n",
        "      print(\"x=\\n\")\n",
        "      sp.pprint(x)\n",
        "      print(\"alpha= \",alpha)\n",
        "      print(\"w=\\n\")\n",
        "      sp.pprint(w_matrix)\n",
        "      print(\"HAH=\\n\")\n",
        "      sp.pprint(HAH)\n",
        "  return HAH"
      ]
    },
    {
      "cell_type": "code",
      "source": [
        "A=sp.Matrix([[-1,-2,1,2],\\\n",
        "       [-2,3,0,-2],\\\n",
        "       [1,0,2,1],\\\n",
        "       [2,-2,1,4]])\n",
        "\n",
        "result=symmetric2tridiagonal(A)\n",
        "result"
      ],
      "metadata": {
        "colab": {
          "base_uri": "https://localhost:8080/",
          "height": 99
        },
        "id": "Qti66g6QDc_0",
        "outputId": "c3414c50-6f71-4857-8ac2-f1b3188b4853"
      },
      "execution_count": 279,
      "outputs": [
        {
          "output_type": "execute_result",
          "data": {
            "text/plain": [
              "Matrix([\n",
              "[149/75,  68/75,    0,  0],\n",
              "[ 68/75, -33/25, -5/3,  0],\n",
              "[     0,   -5/3, 10/3, -3],\n",
              "[     0,      0,   -3,  4]])"
            ],
            "text/latex": "$\\displaystyle \\left[\\begin{matrix}\\frac{149}{75} & \\frac{68}{75} & 0 & 0\\\\\\frac{68}{75} & - \\frac{33}{25} & - \\frac{5}{3} & 0\\\\0 & - \\frac{5}{3} & \\frac{10}{3} & -3\\\\0 & 0 & -3 & 4\\end{matrix}\\right]$"
          },
          "metadata": {},
          "execution_count": 279
        }
      ]
    },
    {
      "cell_type": "code",
      "source": [
        "result.evalf(6)"
      ],
      "metadata": {
        "colab": {
          "base_uri": "https://localhost:8080/",
          "height": 98
        },
        "id": "DMf70ipUO7Y-",
        "outputId": "243e3498-1a6c-4497-ce6e-92614fcd1f0a"
      },
      "execution_count": 280,
      "outputs": [
        {
          "output_type": "execute_result",
          "data": {
            "text/plain": [
              "Matrix([\n",
              "[ 1.98667, 0.906667,        0,    0],\n",
              "[0.906667,    -1.32, -1.66667,    0],\n",
              "[       0, -1.66667,  3.33333, -3.0],\n",
              "[       0,        0,     -3.0,  4.0]])"
            ],
            "text/latex": "$\\displaystyle \\left[\\begin{matrix}1.98667 & 0.906667 & 0 & 0\\\\0.906667 & -1.32 & -1.66667 & 0\\\\0 & -1.66667 & 3.33333 & -3.0\\\\0 & 0 & -3.0 & 4.0\\end{matrix}\\right]$"
          },
          "metadata": {},
          "execution_count": 280
        }
      ]
    },
    {
      "cell_type": "markdown",
      "source": [
        "##QR decomposition by Givens rotation\n",
        "\n"
      ],
      "metadata": {
        "id": "hVUXO0dmEwuu"
      }
    },
    {
      "cell_type": "code",
      "source": [
        "def Givens_QR_decomposition(arg_A,log=False):\n",
        "  n=len(arg_A.row(0))\n",
        "  R_tmp=arg_A\n",
        "  Q_tmp=sp.eye(n)\n",
        "  P_tmp=[]\n",
        "  for m in range(n-1):\n",
        "    P=sp.eye(n)\n",
        "    x=R_tmp.col(m)\n",
        "    r=sp.sqrt(x[m]**2+x[m+1]**2)\n",
        "    P[m,m]=x[m]/r\n",
        "    P[m,m+1]=x[m+1]/r\n",
        "    P[m+1,m]=-x[m+1]/r\n",
        "    P[m+1,m+1]=x[m]/r\n",
        "    P_tmp.append(P)\n",
        "    R_tmp=P@R_tmp\n",
        "  for i in range(n-1):\n",
        "    Q_tmp=P_tmp[-(i+1)].T@Q_tmp\n",
        "  return [Q_tmp,R_tmp]"
      ],
      "metadata": {
        "id": "ljqwhralEF2X"
      },
      "execution_count": 281,
      "outputs": []
    },
    {
      "cell_type": "code",
      "source": [
        "[Q,R]=Givens_QR_decomposition(result,log=False)\n",
        "R.evalf(6)"
      ],
      "metadata": {
        "colab": {
          "base_uri": "https://localhost:8080/",
          "height": 98
        },
        "id": "MRhFgY06D_ZA",
        "outputId": "a96a49f6-b923-43a4-e18b-48d850aa5e2f"
      },
      "execution_count": 282,
      "outputs": [
        {
          "output_type": "execute_result",
          "data": {
            "text/plain": [
              "Matrix([\n",
              "[2.18378, 0.276788, -0.691971,        0],\n",
              "[      0,  2.29469,  -1.37885,  2.17894],\n",
              "[      0,        0,   4.52867, -4.19452],\n",
              "[      0,        0,         0, -1.63041]])"
            ],
            "text/latex": "$\\displaystyle \\left[\\begin{matrix}2.18378 & 0.276788 & -0.691971 & 0\\\\0 & 2.29469 & -1.37885 & 2.17894\\\\0 & 0 & 4.52867 & -4.19452\\\\0 & 0 & 0 & -1.63041\\end{matrix}\\right]$"
          },
          "metadata": {},
          "execution_count": 282
        }
      ]
    },
    {
      "cell_type": "code",
      "source": [
        "Q.evalf(6)"
      ],
      "metadata": {
        "colab": {
          "base_uri": "https://localhost:8080/",
          "height": 98
        },
        "id": "8eXxlhq3JIIf",
        "outputId": "ef39a39c-5601-408b-9df3-33978464ba7c"
      },
      "execution_count": 283,
      "outputs": [
        {
          "output_type": "execute_result",
          "data": {
            "text/plain": [
              "Matrix([\n",
              "[0.909738,  0.285381,  0.225896, -0.199763],\n",
              "[0.415183,  -0.62532, -0.494978,  0.437715],\n",
              "[       0, -0.726314,   0.51491, -0.455341],\n",
              "[       0,         0, -0.662446,  -0.74911]])"
            ],
            "text/latex": "$\\displaystyle \\left[\\begin{matrix}0.909738 & 0.285381 & 0.225896 & -0.199763\\\\0.415183 & -0.62532 & -0.494978 & 0.437715\\\\0 & -0.726314 & 0.51491 & -0.455341\\\\0 & 0 & -0.662446 & -0.74911\\end{matrix}\\right]$"
          },
          "metadata": {},
          "execution_count": 283
        }
      ]
    },
    {
      "cell_type": "code",
      "source": [
        "Q@R"
      ],
      "metadata": {
        "colab": {
          "base_uri": "https://localhost:8080/",
          "height": 99
        },
        "id": "Bhy8k8FLOllU",
        "outputId": "b32c45a7-9223-47ac-d9aa-0e4bf36bd539"
      },
      "execution_count": 284,
      "outputs": [
        {
          "output_type": "execute_result",
          "data": {
            "text/plain": [
              "Matrix([\n",
              "[149/75,  68/75,    0,  0],\n",
              "[ 68/75, -33/25, -5/3,  0],\n",
              "[     0,   -5/3, 10/3, -3],\n",
              "[     0,      0,   -3,  4]])"
            ],
            "text/latex": "$\\displaystyle \\left[\\begin{matrix}\\frac{149}{75} & \\frac{68}{75} & 0 & 0\\\\\\frac{68}{75} & - \\frac{33}{25} & - \\frac{5}{3} & 0\\\\0 & - \\frac{5}{3} & \\frac{10}{3} & -3\\\\0 & 0 & -3 & 4\\end{matrix}\\right]$"
          },
          "metadata": {},
          "execution_count": 284
        }
      ]
    }
  ]
}