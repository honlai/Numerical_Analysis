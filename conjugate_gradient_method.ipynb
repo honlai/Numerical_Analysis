{
  "nbformat": 4,
  "nbformat_minor": 0,
  "metadata": {
    "colab": {
      "provenance": [],
      "authorship_tag": "ABX9TyPOec+HSAJKeMx9AtuqXVV8",
      "include_colab_link": true
    },
    "kernelspec": {
      "name": "python3",
      "display_name": "Python 3"
    },
    "language_info": {
      "name": "python"
    }
  },
  "cells": [
    {
      "cell_type": "markdown",
      "metadata": {
        "id": "view-in-github",
        "colab_type": "text"
      },
      "source": [
        "<a href=\"https://colab.research.google.com/github/honlai/Numerical_Analysis/blob/main/conjugate_gradient_method.ipynb\" target=\"_parent\"><img src=\"https://colab.research.google.com/assets/colab-badge.svg\" alt=\"Open In Colab\"/></a>"
      ]
    },
    {
      "cell_type": "markdown",
      "source": [
        "#Conjugate Gradient Method\n",
        "Solve Linear Systems\n",
        "$$\\textbf{Ax}=\\textbf{b}$$"
      ],
      "metadata": {
        "id": "YEc_pBPnODcd"
      }
    },
    {
      "cell_type": "code",
      "execution_count": 130,
      "metadata": {
        "id": "u10Xg5I-tXsz"
      },
      "outputs": [],
      "source": [
        "import numpy as np\n",
        "import math\n",
        "\n",
        "def conjugate_gradient(arg_A,x0,b,Nmax,tol,log=False):\n",
        "  x=np.array([x0])\n",
        "  r=np.array([(arg_A @ x0) - b])\n",
        "  d=np.array([-r[0]])\n",
        "  delta=np.array([(r[0].T @ r[0])])\n",
        "  for m in range(Nmax):\n",
        "    u=(arg_A @ d[m].T).T\n",
        "    l=delta[m]/(d[m] @ u)\n",
        "    x=np.append(x, np.array([x[m]+l*d[m]]), axis=0)\n",
        "    r=np.append(r, np.array([r[m]+l*u]), axis=0)\n",
        "    delta=np.append(delta, np.array([r[m+1] @ r[m+1]]))\n",
        "    alpha=delta[m+1]/delta[m]\n",
        "    d=np.append(d, np.array([-r[m+1] + alpha*d[m]]), axis=0)\n",
        "    if log:\n",
        "      print('Step. ',m)\n",
        "      print('u',u)\n",
        "      print('lambda',l)\n",
        "      print('x',x[m])\n",
        "      print('r',r[m])\n",
        "      print('delta',delta[m])\n",
        "      print('alpha',alpha)\n",
        "      print('d',d[m],'\\n')\n",
        "    if math.sqrt(delta[m+1]) < tol:\n",
        "      break\n",
        "  return x[-1]"
      ]
    },
    {
      "cell_type": "code",
      "source": [
        "A=np.array([[1,(-1/4),(-1/4),0],\\\n",
        "      [(-1/4),1,0,(-1/4)],\\\n",
        "      [(-1/4),0,1,(-1/4)],\\\n",
        "      [0,(-1/4),(-1/4),1]])\n",
        "b=np.array([-1,0,1,-1]).T\n",
        "x0=np.zeros(len(b)).T\n",
        "Nmax=100\n",
        "tol=10**-10\n",
        "x=conjugate_gradient(A,x0,b,Nmax,tol)\n",
        "print(\"Solution:\",x)"
      ],
      "metadata": {
        "colab": {
          "base_uri": "https://localhost:8080/"
        },
        "id": "vVzCsCTlLPmH",
        "outputId": "f747c7fe-0916-4913-c449-978c7d9582a0"
      },
      "execution_count": 131,
      "outputs": [
        {
          "output_type": "stream",
          "name": "stdout",
          "text": [
            "Solution: [-1.  -0.5  0.5 -1. ]\n"
          ]
        }
      ]
    },
    {
      "cell_type": "code",
      "source": [
        "A=np.array([[3,0,-1,0,-1,0],\\\n",
        "      [0,4,1,0,0,2],\\\n",
        "      [-1,1,5,0,0,1],\\\n",
        "      [0,0,0,6,-1,-2],\\\n",
        "      [-1,0,0,-1,7,2],\\\n",
        "      [0,2,1,-2,2,8]])\n",
        "b=np.array([3,7,6,11,1,7]).T\n",
        "x0=np.zeros(len(b)).T\n",
        "Nmax=100\n",
        "tol=10**-10\n",
        "x=conjugate_gradient(A,x0,b,Nmax,tol,log=True)\n",
        "print(\"Solution:\",x)"
      ],
      "metadata": {
        "colab": {
          "base_uri": "https://localhost:8080/"
        },
        "id": "TNElqT-YLqw-",
        "outputId": "db974258-c0d6-43af-ad59-1d3f52f0494e"
      },
      "execution_count": 133,
      "outputs": [
        {
          "output_type": "stream",
          "name": "stdout",
          "text": [
            "Step.  0\n",
            "u [ 2. 48. 41. 51.  7. 56.]\n",
            "lambda 0.17118863049095606\n",
            "x [0. 0. 0. 0. 0. 0.]\n",
            "r [ -3.  -7.  -6. -11.  -1.  -7.]\n",
            "delta 265.0\n",
            "alpha 0.08098763762861476\n",
            "d [ 3.  7.  6. 11.  1.  7.] \n",
            "\n",
            "Step.  1\n",
            "u [  9.35189776  -7.17267091  -8.23441642  23.11809562 -10.92145863\n",
            " -24.54544165]\n",
            "lambda 0.13406032252717626\n",
            "x [0.51356589 1.19832041 1.02713178 1.88307494 0.17118863 1.19832041]\n",
            "r [-2.65762274  1.21705426  1.01873385 -2.26937984  0.19832041  2.58656331]\n",
            "delta 21.46172397158291\n",
            "alpha 0.22505263105296575\n",
            "d [ 2.90058565 -0.6501408  -0.53280802  3.16024386 -0.11733278 -2.01964984] \n",
            "\n",
            "Step.  2\n",
            "u [ 4.9653936  -1.14297551 -2.38268521 -2.4500757   7.2367422   3.87354993]\n",
            "lambda 0.23021408376586178\n",
            "x [0.90241934 1.11116233 0.95570337 2.30673825 0.15545896 0.9275655 ]\n",
            "r [-1.40390431  0.25548369 -0.08517467  0.82983951 -1.26581385 -0.70400652]\n",
            "delta 4.830017446737239\n",
            "alpha 0.15231776915618947\n",
            "d [ 2.05668874 -0.40179959 -0.03473518 -0.11861831  1.2394078   0.24947901] \n",
            "\n",
            "Step.  3\n",
            "u [ 1.30520375  0.11470991  2.36469189 -1.19231094 -2.06950009 -0.53168735]\n",
            "lambda 0.23849863374378735\n",
            "x [1.37589805 1.0186624  0.94770684 2.27943064 0.44078809 0.98499908]\n",
            "r [-0.26080077 -0.00764537 -0.63370236  0.26579758  0.40018612  0.18773923]\n",
            "delta 0.7356974824724904\n",
            "alpha 0.027970851247195123\n",
            "d [ 0.57407101 -0.05355584  0.62841158 -0.28386525 -0.21140229 -0.14973915] \n",
            "\n",
            "Step.  4\n",
            "u [-0.27807136 -0.12778107  0.38461857  0.10653     0.5058786  -0.3223912 ]\n",
            "lambda 0.18333853268058936\n",
            "x [1.51281321 1.00588941 1.09758214 2.21172916 0.39036893 0.9492865 ]\n",
            "r [ 0.05048854  0.01971278 -0.06972658 -0.01856695 -0.09338682  0.06093252]\n",
            "delta 0.020578084845173972\n",
            "alpha 0.0009395496268501225\n",
            "d [-0.03443129 -0.02121079  0.08730379  0.010627    0.08747372 -0.06512086] \n",
            "\n",
            "Step.  5\n",
            "u [ 0.00136575  0.01029717 -0.0021868  -0.0026727   0.00177361 -0.00506151]\n",
            "lambda 0.3607215104947867\n",
            "x [1.50650062 1.00200065 1.11358829 2.2136775  0.40640624 0.93734734]\n",
            "r [-0.00049266 -0.00371441  0.00078883  0.0009641  -0.00063978  0.0018258 ]\n",
            "delta 1.9334131937573366e-05\n",
            "alpha 4.333799839648998e-25\n",
            "d [ 0.00046031  0.00369448 -0.0007068  -0.00095412  0.00072197 -0.00188698] \n",
            "\n",
            "Solution: [1.50666667 1.00333333 1.11333333 2.21333333 0.40666667 0.93666667]\n"
          ]
        }
      ]
    }
  ]
}