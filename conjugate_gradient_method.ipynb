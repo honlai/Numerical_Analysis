{
  "nbformat": 4,
  "nbformat_minor": 0,
  "metadata": {
    "colab": {
      "provenance": [],
      "authorship_tag": "ABX9TyPPjcsHXFxvC0L7fRQBC8l9",
      "include_colab_link": true
    },
    "kernelspec": {
      "name": "python3",
      "display_name": "Python 3"
    },
    "language_info": {
      "name": "python"
    }
  },
  "cells": [
    {
      "cell_type": "markdown",
      "metadata": {
        "id": "view-in-github",
        "colab_type": "text"
      },
      "source": [
        "<a href=\"https://colab.research.google.com/github/honlai/Numerical_Analysis/blob/main/conjugate_gradient_method.ipynb\" target=\"_parent\"><img src=\"https://colab.research.google.com/assets/colab-badge.svg\" alt=\"Open In Colab\"/></a>"
      ]
    },
    {
      "cell_type": "markdown",
      "source": [
        "#Conjugate Gradient Method\n",
        "Solve Linear Systems\n",
        "$$\\textbf{Ax}=\\textbf{b}$$"
      ],
      "metadata": {
        "id": "YEc_pBPnODcd"
      }
    },
    {
      "cell_type": "code",
      "execution_count": 130,
      "metadata": {
        "id": "u10Xg5I-tXsz"
      },
      "outputs": [],
      "source": [
        "import numpy as np\n",
        "import math\n",
        "\n",
        "def conjugate_gradient(arg_A,x0,b,Nmax,tol,log=False):\n",
        "  x=np.array([x0])\n",
        "  r=np.array([(arg_A @ x0) - b])\n",
        "  d=np.array([-r[0]])\n",
        "  delta=np.array([(r[0].T @ r[0])])\n",
        "  for m in range(Nmax):\n",
        "    u=(arg_A @ d[m].T).T\n",
        "    l=delta[m]/(d[m] @ u)\n",
        "    x=np.append(x, np.array([x[m]+l*d[m]]), axis=0)\n",
        "    r=np.append(r, np.array([r[m]+l*u]), axis=0)\n",
        "    delta=np.append(delta, np.array([r[m+1] @ r[m+1]]))\n",
        "    alpha=delta[m+1]/delta[m]\n",
        "    d=np.append(d, np.array([-r[m+1] + alpha*d[m]]), axis=0)\n",
        "    if log:\n",
        "      print('Step. ',m)\n",
        "      print('u',u)\n",
        "      print('lambda',l)\n",
        "      print('x',x[m])\n",
        "      print('r',r[m])\n",
        "      print('delta',delta[m])\n",
        "      print('alpha',alpha)\n",
        "      print('d',d[m],'\\n')\n",
        "    if math.sqrt(delta[m+1]) < tol:\n",
        "      break\n",
        "  return x[-1]"
      ]
    },
    {
      "cell_type": "code",
      "source": [
        "A=np.array([[1,(-1/4),(-1/4),0],\\\n",
        "      [(-1/4),1,0,(-1/4)],\\\n",
        "      [(-1/4),0,1,(-1/4)],\\\n",
        "      [0,(-1/4),(-1/4),1]])\n",
        "b=np.array([-1,0,1,-1]).T\n",
        "x0=np.zeros(len(b)).T\n",
        "Nmax=100\n",
        "tol=10**-10\n",
        "x=conjugate_gradient(A,x0,b,Nmax,tol)\n",
        "print(\"Solution:\",x)"
      ],
      "metadata": {
        "colab": {
          "base_uri": "https://localhost:8080/"
        },
        "id": "vVzCsCTlLPmH",
        "outputId": "f747c7fe-0916-4913-c449-978c7d9582a0"
      },
      "execution_count": 131,
      "outputs": [
        {
          "output_type": "stream",
          "name": "stdout",
          "text": [
            "Solution: [-1.  -0.5  0.5 -1. ]\n"
          ]
        }
      ]
    },
    {
      "cell_type": "code",
      "source": [
        "A=np.array([[3,0,-1,0,-1,0],\\\n",
        "      [0,4,1,0,0,2],\\\n",
        "      [-1,1,5,0,0,1],\\\n",
        "      [0,0,0,6,-1,-2],\\\n",
        "      [-1,0,0,-1,7,2],\\\n",
        "      [0,2,1,-2,2,8]])\n",
        "b=np.array([3,7,6,11,1,7]).T\n",
        "x0=np.zeros(len(b)).T\n",
        "Nmax=100\n",
        "tol=10**-10\n",
        "x=conjugate_gradient(A,x0,b,Nmax,tol)\n",
        "print(\"Solution:\",x)"
      ],
      "metadata": {
        "colab": {
          "base_uri": "https://localhost:8080/"
        },
        "id": "TNElqT-YLqw-",
        "outputId": "8dd3f3ae-9f7b-4c21-d0c7-240f4691eac4"
      },
      "execution_count": 132,
      "outputs": [
        {
          "output_type": "stream",
          "name": "stdout",
          "text": [
            "Solution: [1.50666667 1.00333333 1.11333333 2.21333333 0.40666667 0.93666667]\n"
          ]
        }
      ]
    }
  ]
}