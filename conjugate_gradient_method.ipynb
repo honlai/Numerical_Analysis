{
  "nbformat": 4,
  "nbformat_minor": 0,
  "metadata": {
    "colab": {
      "provenance": [],
      "authorship_tag": "ABX9TyP05cEfOUsJiaO1l9Gm/t2t"
    },
    "kernelspec": {
      "name": "python3",
      "display_name": "Python 3"
    },
    "language_info": {
      "name": "python"
    }
  },
  "cells": [
    {
      "cell_type": "markdown",
      "source": [
        "#Conjugate Gradient Method\n",
        "Solve Linear Systems\n",
        "$$\\textbf{Ax}=\\textbf{b}$$"
      ],
      "metadata": {
        "id": "YEc_pBPnODcd"
      }
    },
    {
      "cell_type": "code",
      "execution_count": 155,
      "metadata": {
        "id": "u10Xg5I-tXsz"
      },
      "outputs": [],
      "source": [
        "import sympy as sp\n",
        "\n",
        "def conjugate_gradient(arg_A, x0, b, Nmax, tol, log=False,precision=20):\n",
        "    x = sp.Matrix([sp.Matrix(x0)]).T\n",
        "    r = sp.Matrix([arg_A @ x0 - b]).T\n",
        "    d = sp.Matrix([-r])\n",
        "    delta = sp.Matrix([r.dot(r)])\n",
        "    if log:\n",
        "        print('Step. ', 0)\n",
        "        print('x', (x).evalf(precision))\n",
        "        print('r', (r).evalf(precision))\n",
        "        print('d', (d).evalf(precision))\n",
        "        print('delta', delta.evalf(precision))\n",
        "\n",
        "    for m in range(Nmax):\n",
        "        u = arg_A*d.T\n",
        "        l = delta / d.dot(u)\n",
        "        x=x + l * d\n",
        "        r=r + l * u.T\n",
        "        delta_pre=delta\n",
        "        delta=r*(r).T\n",
        "        alpha = delta[0] / delta_pre[0]\n",
        "        d=-r + alpha * d\n",
        "\n",
        "        if log:\n",
        "            print('u', u.evalf(precision))\n",
        "            print('lambda', l.evalf(precision))\n",
        "            print('alpha', alpha.evalf(precision), '\\n')\n",
        "        if sp.sqrt(delta[0]) < tol:\n",
        "            break\n",
        "        if log:\n",
        "            print('Step. ', m+1)\n",
        "            print('x', (x).evalf(precision))\n",
        "            print('r', (r).evalf(precision))\n",
        "            print('d', (d).evalf(precision))\n",
        "            print('delta', delta.evalf(precision))\n",
        "    return x.evalf(precision)"
      ]
    },
    {
      "cell_type": "markdown",
      "source": [
        "$$\\begin{matrix}\n",
        "    x_1 &-0.25x_2 &-0.25x_3& &=& -1 \\\\\n",
        "    -0.25x_1 &+x_2&  &-0.25x_4 &=& 0 \\\\\n",
        "    -0.25x_1&  &+x_3 &-0.25x_4 &=& 1 \\\\\n",
        "    &-0.25x_2 &-0.25x_3 &+x_4 &=& -1\n",
        "\\end{matrix}$$\n",
        "\n",
        "$$\\textbf{A}=\n",
        "\\begin{bmatrix}\n",
        "    1&-0.25&-0.25&0\\\\\n",
        "    -0.25&1&0&-0.25\\\\\n",
        "    -0.25&0&1&-0.25\\\\\n",
        "    0&-0.25&-0.25&1\n",
        "\\end{bmatrix},\\textbf{b}=\n",
        "\\begin{bmatrix}\n",
        "    -1\\\\\n",
        "    0\\\\\n",
        "    1\\\\\n",
        "    -1\n",
        "\\end{bmatrix}$$"
      ],
      "metadata": {
        "id": "NfeLEifxrezL"
      }
    },
    {
      "cell_type": "code",
      "source": [
        "A = sp.Matrix([[1, -1/4, -1/4, 0],\\\n",
        "        [-1/4, 1, 0, -1/4],\\\n",
        "        [-1/4, 0, 1, -1/4],\\\n",
        "        [0, -1/4, -1/4, 1]])\n",
        "\n",
        "b = sp.Matrix([-1, 0, 1, -1])\n",
        "x0 = sp.zeros(len(b), 1)\n",
        "Nmax = 100\n",
        "tol=5*(10**-7)\n",
        "\n",
        "x = conjugate_gradient(A, x0, b, Nmax, tol)\n",
        "print(\"Solution:\", x)"
      ],
      "metadata": {
        "colab": {
          "base_uri": "https://localhost:8080/"
        },
        "id": "vVzCsCTlLPmH",
        "outputId": "3826bb0e-215a-465f-9da0-11825501b475"
      },
      "execution_count": 156,
      "outputs": [
        {
          "output_type": "stream",
          "name": "stdout",
          "text": [
            "Solution: Matrix([[-1.0000000000000000000, -0.50000000000000000000, 0.50000000000000000000, -1.0000000000000000000]])\n"
          ]
        }
      ]
    },
    {
      "cell_type": "markdown",
      "source": [
        "$$\\begin{matrix}\n",
        "    3x_1 & &-x_3 & &-x_5 & &=& 3 \\\\\n",
        "     &4x_2 &1x_3 & & &2x_6 &=& 7 \\\\\n",
        "    -x_1 &1x_2 &5x_3 & & &x_6 &=& 6 \\\\\n",
        "     & & &6x_4 &-x_5 &-2x_6 &=& 11 \\\\\n",
        "    -x_1 & & &-x_4 &7x_5 &2x_6 &=& 1 \\\\\n",
        "     &2x_2 &x_3 &-2x_4 &2x_5 &8x_6 &=& 7 \\\\\n",
        "\\end{matrix}$$\n",
        "\n",
        "$$\\textbf{A}=\n",
        "\\begin{bmatrix}\n",
        "    3&0&-1&0&-1&0\\\\\n",
        "    0&4&1&0&0&2\\\\\n",
        "    -1&1&5&0&0&1\\\\\n",
        "    0&0&0&6&-1&-2\\\\\n",
        "    -1&0&0&-1&7&2\\\\\n",
        "    0&2&1&-2&2&8\n",
        "\\end{bmatrix},\\textbf{b}=\n",
        "\\begin{bmatrix}\n",
        "    3\\\\\n",
        "    7\\\\\n",
        "    6\\\\\n",
        "    11\\\\\n",
        "    1\\\\\n",
        "    7\n",
        "\\end{bmatrix}$$"
      ],
      "metadata": {
        "id": "D1Iz1kynrf3x"
      }
    },
    {
      "cell_type": "code",
      "source": [
        "A = sp.Matrix([[3, 0, -1, 0, -1, 0],\\\n",
        "        [0, 4, 1, 0, 0, 2],\\\n",
        "        [-1, 1, 5, 0, 0, 1],\\\n",
        "        [0, 0, 0, 6, -1, -2],\\\n",
        "        [-1, 0, 0, -1, 7, 2],\\\n",
        "        [0, 2, 1, -2, 2, 8]])\n",
        "\n",
        "b = sp.Matrix([3, 7, 6, 11, 1, 7])\n",
        "x0 = sp.zeros(len(b), 1)\n",
        "Nmax = 100\n",
        "tol=5*(10**-7)\n",
        "\n",
        "x = conjugate_gradient(A, x0, b, Nmax, tol, log=True,precision=9)\n",
        "print(\"Solution:\", x)"
      ],
      "metadata": {
        "colab": {
          "base_uri": "https://localhost:8080/"
        },
        "id": "TNElqT-YLqw-",
        "outputId": "0eb72344-c698-4458-c540-c0d9bba240e2"
      },
      "execution_count": 157,
      "outputs": [
        {
          "output_type": "stream",
          "name": "stdout",
          "text": [
            "Step.  0\n",
            "x Matrix([[0, 0, 0, 0, 0, 0]])\n",
            "r Matrix([[-3.00000000, -7.00000000, -6.00000000, -11.0000000, -1.00000000, -7.00000000]])\n",
            "d Matrix([[3.00000000, 7.00000000, 6.00000000, 11.0000000, 1.00000000, 7.00000000]])\n",
            "delta Matrix([[265.000000]])\n",
            "u Matrix([[2.00000000], [48.0000000], [41.0000000], [51.0000000], [7.00000000], [56.0000000]])\n",
            "lambda Matrix([[0.171188630]])\n",
            "alpha 0.0809876376 \n",
            "\n",
            "Step.  1\n",
            "x Matrix([[0.513565891, 1.19832041, 1.02713178, 1.88307494, 0.171188630, 1.19832041]])\n",
            "r Matrix([[-2.65762274, 1.21705426, 1.01873385, -2.26937984, 0.198320413, 2.58656331]])\n",
            "d Matrix([[2.90058565, -0.650140800, -0.532808024, 3.16024386, -0.117332776, -2.01964984]])\n",
            "delta Matrix([[21.4617240]])\n",
            "u Matrix([[9.35189776], [-7.17267091], [-8.23441642], [23.1180956], [-10.9214586], [-24.5454416]])\n",
            "lambda Matrix([[0.134060323]])\n",
            "alpha 0.225052631 \n",
            "\n",
            "Step.  2\n",
            "x Matrix([[0.902419340, 1.11116233, 0.955703367, 2.30673825, 0.155458961, 0.927565504]])\n",
            "r Matrix([[-1.40390431, 0.255483688, -0.0851746707, 0.829839510, -1.26581385, -0.704006516]])\n",
            "d Matrix([[2.05668874, -0.401799585, -0.0347351770, -0.118618314, 1.23940780, 0.249479005]])\n",
            "delta Matrix([[4.83001745]])\n",
            "u Matrix([[4.96539360], [-1.14297551], [-2.38268521], [-2.45007570], [7.23674220], [3.87354993]])\n",
            "lambda Matrix([[0.230214084]])\n",
            "alpha 0.152317769 \n",
            "\n",
            "Step.  3\n",
            "x Matrix([[1.37589805, 1.01866240, 0.947706840, 2.27943064, 0.440788092, 0.984999084]])\n",
            "r Matrix([[-0.260800771, -0.00764537172, -0.633702363, 0.265797577, 0.400186123, 0.187739231]])\n",
            "d Matrix([[0.574071012, -0.0535558447, 0.628411578, -0.283865254, -0.211402291, -0.149739146]])\n",
            "delta Matrix([[0.735697482]])\n",
            "u Matrix([[1.30520375], [0.114709907], [2.36469189], [-1.19231094], [-2.06950009], [-0.531687352]])\n",
            "lambda Matrix([[0.238498634]])\n",
            "alpha 0.0279708512 \n",
            "\n",
            "Step.  4\n",
            "x Matrix([[1.51281321, 1.00588941, 1.09758214, 2.21172916, 0.390368935, 0.949286503]])\n",
            "r Matrix([[0.0504885399, 0.0197127845, -0.0697265784, -0.0185669536, -0.0933868208, 0.0609325243]])\n",
            "d Matrix([[-0.0344312850, -0.0212107870, 0.0873037852, 0.0106270008, 0.0874737187, -0.0651208557]])\n",
            "delta Matrix([[0.0205780848]])\n",
            "u Matrix([[-0.278071359], [-0.127781074], [0.384618568], [0.106529998], [0.505878604], [-0.322391198]])\n",
            "lambda Matrix([[0.183338533]])\n",
            "alpha 0.000939549627 \n",
            "\n",
            "Step.  5\n",
            "x Matrix([[1.50650062, 1.00200065, 1.11358829, 2.21367750, 0.406406238, 0.937347341]])\n",
            "r Matrix([[-0.000492655017, -0.00371441020, 0.000788825530, 0.000964099813, -0.000639779809, 0.00182579502]])\n",
            "d Matrix([[0.000460305116, 0.00369448161, -0.000706799291, -0.000954115218, 0.000721965709, -0.00188697930]])\n",
            "delta Matrix([[1.93341319e-5]])\n",
            "u Matrix([[0.00136574893], [0.0102971686], [-0.00218679925], [-0.00267269842], [0.00177361147], [-0.00506150858]])\n",
            "lambda Matrix([[0.360721510]])\n",
            "alpha 0 \n",
            "\n",
            "Solution: Matrix([[1.50666667, 1.00333333, 1.11333333, 2.21333333, 0.406666667, 0.936666667]])\n"
          ]
        }
      ]
    }
  ]
}