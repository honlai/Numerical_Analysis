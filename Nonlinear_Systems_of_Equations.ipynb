{
  "nbformat": 4,
  "nbformat_minor": 0,
  "metadata": {
    "colab": {
      "provenance": [],
      "authorship_tag": "ABX9TyOH1/0IgM9YnzesC/ybnIRT"
    },
    "kernelspec": {
      "name": "python3",
      "display_name": "Python 3"
    },
    "language_info": {
      "name": "python"
    }
  },
  "cells": [
    {
      "cell_type": "markdown",
      "source": [
        "#Newton's Method"
      ],
      "metadata": {
        "id": "2rEfcrso1n61"
      }
    },
    {
      "cell_type": "code",
      "source": [
        "import sympy as sp\n",
        "from sympy import oo\n",
        "def newton(variables,F,x0,Nmax,tol,log=False,precision=20,use_inv=True):\n",
        "  n=len(x0)\n",
        "  jacobian_matrix = F.jacobian(variables)\n",
        "  if log:\n",
        "    print('Step. ',0)\n",
        "    print('x',x0.evalf(precision))\n",
        "  for m in range(Nmax):\n",
        "    Fx = F\n",
        "    for i in range(n):\n",
        "        Fx = Fx.subs({sp.symbols('x' + str(i + 1)): x0[i]})\n",
        "    Jx = jacobian_matrix\n",
        "    for i in range(n):\n",
        "        Jx = Jx.subs({sp.symbols('x' + str(i + 1)): x0[i]})\n",
        "    if use_inv:\n",
        "      Jx_inv = Jx.inv()\n",
        "      v=-(Jx_inv*Fx)\n",
        "\n",
        "    x0=x0+v\n",
        "    max_norm = v.norm(oo)\n",
        "    if log:\n",
        "      print('Fx',Fx.evalf(precision))\n",
        "      print('Jx',Jx.evalf(precision))\n",
        "      print('v',v.evalf(precision))\n",
        "      print('max_norm',max_norm.evalf(precision),'\\n')\n",
        "      print('Step. ',m+1)\n",
        "      print('x',x0.evalf(precision))\n",
        "    if max_norm < tol:\n",
        "      break\n",
        "  return x0.evalf(precision)"
      ],
      "metadata": {
        "id": "xNZOj8Op5Uph"
      },
      "execution_count": 70,
      "outputs": []
    },
    {
      "cell_type": "markdown",
      "source": [
        "$$\\begin{matrix}\n",
        "x_1^3&-2x_2& &-2&=&0\\\\\n",
        "x_1^3& &-5x_3^2&+7&=&0\\\\\n",
        "& &x_2x_3^2&-1&=&0\n",
        "\\end{matrix}$$"
      ],
      "metadata": {
        "id": "femse1hzwGAo"
      }
    },
    {
      "cell_type": "code",
      "source": [
        "x1, x2, x3 = sp.symbols('x1 x2 x3')\n",
        "variables = sp.Matrix([x1, x2, x3])\n",
        "\n",
        "f1 = x1**3-2*x2-2\n",
        "f2 = x1**3-5*x3**2+7\n",
        "f3 = x2*(x3**2)-1\n",
        "f_vector = sp.Matrix([f1, f2, f3])\n",
        "\n",
        "x0=sp.Matrix([1, 1, 1])\n",
        "\n",
        "Nmax=100\n",
        "tol=5*(10**(-6))\n",
        "\n",
        "x=newton(variables,f_vector,x0,Nmax,tol)\n",
        "print(\"Solution:\",x)"
      ],
      "metadata": {
        "colab": {
          "base_uri": "https://localhost:8080/"
        },
        "id": "RzDG-euMwGkO",
        "outputId": "35ab71d1-5873-4a68-a3dc-318f2803fbac"
      },
      "execution_count": 71,
      "outputs": [
        {
          "output_type": "stream",
          "name": "stdout",
          "text": [
            "Solution: Matrix([[1.4422495703074083823], [0.50000000000000000000], [1.4142135623730950488]])\n"
          ]
        }
      ]
    },
    {
      "cell_type": "markdown",
      "source": [
        "$$\\begin{matrix}\n",
        "x_1^2+50x_1&+x_2^2&+x_3^2&-200&=&0\\\\\n",
        "x_1^2&+20x_2&+x_3^2&-50&=&0\\\\\n",
        "-x_1^2&-x_2^2&+40x_3&+75&=&0\n",
        "\\end{matrix}$$"
      ],
      "metadata": {
        "id": "nKpdYXHE3QhT"
      }
    },
    {
      "cell_type": "code",
      "source": [
        "x1, x2, x3 = sp.symbols('x1 x2 x3')\n",
        "variables = sp.Matrix([x1, x2, x3])\n",
        "\n",
        "f1 = x1**2+50*x1+x2**2+x3**2-200\n",
        "f2 = x1**2+20*x2+x3**2-50\n",
        "f3 = -x1**2-x2**2+40*x3+75\n",
        "f_vector = sp.Matrix([f1, f2, f3])\n",
        "\n",
        "x0=sp.Matrix([2, 2, 2])\n",
        "\n",
        "Nmax=100\n",
        "tol=5*(10**(-6))\n",
        "\n",
        "x=newton(variables,f_vector,x0,Nmax,tol,log=True,precision=9)\n",
        "print(\"Solution:\",x)"
      ],
      "metadata": {
        "id": "3RvyRJ0g6i9E",
        "colab": {
          "base_uri": "https://localhost:8080/"
        },
        "outputId": "c16a4b6e-e7f5-40ea-e656-d3efff1322d9"
      },
      "execution_count": 72,
      "outputs": [
        {
          "output_type": "stream",
          "name": "stdout",
          "text": [
            "Step.  0\n",
            "x Matrix([[2.00000000], [2.00000000], [2.00000000]])\n",
            "Fx Matrix([[-88.0000000], [-2.00000000], [147.000000]])\n",
            "Jx Matrix([[54.0000000, 4.00000000, 4.00000000], [4.00000000, 20.0000000, 4.00000000], [-4.00000000, -4.00000000, 40.0000000]])\n",
            "v Matrix([[1.85399853], [0.418745415], [-3.44772561]])\n",
            "max_norm 3.44772561 \n",
            "\n",
            "Step.  1\n",
            "x Matrix([[3.85399853], [2.41874541], [-1.44772561]])\n",
            "Fx Matrix([[15.4994701], [15.3241224], [-3.61265828]])\n",
            "Jx Matrix([[57.7079971, 4.83749083, -2.89545121], [7.70799707, 20.0000000, -2.89545121], [-7.70799707, -4.83749083, 40.0000000]])\n",
            "v Matrix([[-0.212514167], [-0.689223698], [-0.0339878404]])\n",
            "max_norm 0.689223698 \n",
            "\n",
            "Step.  2\n",
            "x Matrix([[3.64148437], [1.72952172], [-1.48171345]])\n",
            "Fx Matrix([[0.521346751], [0.0463174446], [-0.520191577]])\n",
            "Jx Matrix([[57.2829687, 3.45904343, -2.96342689], [7.28296873, 20.0000000, -2.96342689], [-7.28296873, -3.45904343, 40.0000000]])\n",
            "v Matrix([[-0.00865319732], [0.00256148669], [0.0116507726]])\n",
            "max_norm 0.0116507726 \n",
            "\n",
            "Step.  3\n",
            "x Matrix([[3.63283117], [1.73208320], [-1.47006267]])\n",
            "Fx Matrix([[0.000217179541], [0.000210618327], [-8.14390379e-5]])\n",
            "Jx Matrix([[57.2656623, 3.46416641, -2.94012535], [7.26566234, 20.0000000, -2.94012535], [-7.26566234, -3.46416641, 40.0000000]])\n",
            "v Matrix([[-3.19805073e-6], [-9.27327441e-6], [6.51972887e-7]])\n",
            "max_norm 9.27327441e-6 \n",
            "\n",
            "Step.  4\n",
            "x Matrix([[3.63282797], [1.73207393], [-1.47006202]])\n",
            "Fx Matrix([[9.66462155e-11], [1.06525971e-11], [-9.62211468e-11]])\n",
            "Jx Matrix([[57.2656559, 3.46414786, -2.94012404], [7.26565594, 20.0000000, -2.94012404], [-7.26565594, -3.46414786, 40.0000000]])\n",
            "v Matrix([[-1.59949456e-12], [3.63990335e-13], [2.14651715e-12]])\n",
            "max_norm 2.14651715e-12 \n",
            "\n",
            "Step.  5\n",
            "x Matrix([[3.63282797], [1.73207393], [-1.47006202]])\n",
            "Solution: Matrix([[3.63282797], [1.73207393], [-1.47006202]])\n"
          ]
        }
      ]
    }
  ]
}