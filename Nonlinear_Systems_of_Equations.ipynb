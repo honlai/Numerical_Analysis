{
  "nbformat": 4,
  "nbformat_minor": 0,
  "metadata": {
    "colab": {
      "provenance": [],
      "authorship_tag": "ABX9TyOXE1WfNFluRHGfcSwYkK0C",
      "include_colab_link": true
    },
    "kernelspec": {
      "name": "python3",
      "display_name": "Python 3"
    },
    "language_info": {
      "name": "python"
    }
  },
  "cells": [
    {
      "cell_type": "markdown",
      "metadata": {
        "id": "view-in-github",
        "colab_type": "text"
      },
      "source": [
        "<a href=\"https://colab.research.google.com/github/honlai/Numerical_Analysis/blob/main/Nonlinear_Systems_of_Equations.ipynb\" target=\"_parent\"><img src=\"https://colab.research.google.com/assets/colab-badge.svg\" alt=\"Open In Colab\"/></a>"
      ]
    },
    {
      "cell_type": "markdown",
      "source": [
        "#Newton's Method"
      ],
      "metadata": {
        "id": "2rEfcrso1n61"
      }
    },
    {
      "cell_type": "markdown",
      "source": [
        "$$\\begin{matrix}\n",
        "x_1^2+50x_1&+x_2^2&+x_3^2&-200&=&0\\\\\n",
        "x_1^2&+20x_2&+x_3^2&-50&=&0\\\\\n",
        "-x_1^2&-x_2^2&+40x_3&+75&=&0\n",
        "\\end{matrix}$$"
      ],
      "metadata": {
        "id": "nKpdYXHE3QhT"
      }
    },
    {
      "cell_type": "code",
      "source": [
        "import sympy as sp\n",
        "def newton(F,J,x0):\n",
        "  return"
      ],
      "metadata": {
        "id": "xNZOj8Op5Uph"
      },
      "execution_count": 5,
      "outputs": []
    },
    {
      "cell_type": "code",
      "source": [
        "x1, x2, x3 = sp.symbols('x1 x2 x3')\n",
        "variables = sp.Matrix([x1, x2, x3])\n",
        "\n",
        "f1 = x1**2+50*x1+x2**2+x3**2-200\n",
        "f2 = x1**2+20*x2+x3**2-50\n",
        "f3 = -x1**2-x2**2+40*x3+75\n",
        "f_vector = sp.Matrix([f1, f2, f3])\n",
        "\n",
        "jacobian_matrix = f_vector.jacobian(variables)\n",
        "\n",
        "x0=sp.Matrix([2, 2, 2])\n",
        "newton(f_vector,jacobian_matrix,x0)"
      ],
      "metadata": {
        "id": "3RvyRJ0g6i9E"
      },
      "execution_count": 6,
      "outputs": []
    },
    {
      "cell_type": "code",
      "source": [
        "jacobian_matrix.subs({x1: 0, x2: 0, x3: 0})\n"
      ],
      "metadata": {
        "colab": {
          "base_uri": "https://localhost:8080/",
          "height": 78
        },
        "id": "fMrzied76pkI",
        "outputId": "33e76a26-da2a-44ef-f873-e1a77854998f"
      },
      "execution_count": 7,
      "outputs": [
        {
          "output_type": "execute_result",
          "data": {
            "text/plain": [
              "Matrix([\n",
              "[50,  0,  0],\n",
              "[ 0, 20,  0],\n",
              "[ 0,  0, 40]])"
            ],
            "text/latex": "$\\displaystyle \\left[\\begin{matrix}50 & 0 & 0\\\\0 & 20 & 0\\\\0 & 0 & 40\\end{matrix}\\right]$"
          },
          "metadata": {},
          "execution_count": 7
        }
      ]
    }
  ]
}