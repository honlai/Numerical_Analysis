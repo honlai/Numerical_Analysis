{
  "nbformat": 4,
  "nbformat_minor": 0,
  "metadata": {
    "colab": {
      "provenance": [],
      "collapsed_sections": [
        "onP47w4UQOxg",
        "xU71vtqec4zP",
        "TRXG4M9Nc7S8"
      ],
      "authorship_tag": "ABX9TyNGsrFvw6+Jw1zfEbI3N3Yd"
    },
    "kernelspec": {
      "name": "python3",
      "display_name": "Python 3"
    },
    "language_info": {
      "name": "python"
    }
  },
  "cells": [
    {
      "cell_type": "markdown",
      "source": [
        "$$\n",
        "I(f)=\\int_{a}^{b} f(x) \\,dx\n",
        "$$"
      ],
      "metadata": {
        "id": "nFjFGcHokvLf"
      }
    },
    {
      "cell_type": "code",
      "source": [
        "from sympy import symbols, sqrt, sin, asin, cos, acos, sec, asec,tan,atan, exp, log, integrate"
      ],
      "metadata": {
        "id": "NwNki8YQUYcs"
      },
      "execution_count": 134,
      "outputs": []
    },
    {
      "cell_type": "markdown",
      "source": [
        "###Composite trapezoidal rule"
      ],
      "metadata": {
        "id": "onP47w4UQOxg"
      }
    },
    {
      "cell_type": "code",
      "source": [
        "def composite_trapezoidal_rule(arg_f,a,b,symbol,tol=10**-6,Nmax=1000,use_sympy=True):\n",
        "  prev_area=0\n",
        "  for n in range(1,Nmax):\n",
        "    h=(a+b)/n\n",
        "    x=[(a*(n-k)+b*(k))/n for k in range(n+1)]\n",
        "    area=sum(((arg_f.subs({symbol: x[k]})+arg_f.subs({symbol: x[k+1]}))*h)/2 for k in range(n))\n",
        "    if abs(area-prev_area)<tol:\n",
        "      break\n",
        "    prev_area=area\n",
        "  return area\n"
      ],
      "metadata": {
        "id": "GAivL_LZVOst"
      },
      "execution_count": 135,
      "outputs": []
    },
    {
      "cell_type": "markdown",
      "source": [
        "###Composite midpoint rule"
      ],
      "metadata": {
        "id": "xU71vtqec4zP"
      }
    },
    {
      "cell_type": "code",
      "source": [
        "def composite_midpoint_rule(arg_f,a,b,symbol,tol=10**-6,Nmax=1000,use_sympy=True):\n",
        "  prev_area=0\n",
        "  for n in range(1,Nmax):\n",
        "    h=(a+b)/n\n",
        "    x=[(a*(n-k)+b*(k))/n for k in range(n+1)]\n",
        "    area=sum(((arg_f.subs({symbol: (x[k]+x[k+1])/2}))*h) for k in range(n))\n",
        "    if abs(area-prev_area)<tol:\n",
        "      break\n",
        "    prev_area=area\n",
        "  return area\n"
      ],
      "metadata": {
        "id": "sGgWCph8c8AD"
      },
      "execution_count": 136,
      "outputs": []
    },
    {
      "cell_type": "markdown",
      "source": [
        "###Composite Simpson's rule"
      ],
      "metadata": {
        "id": "TRXG4M9Nc7S8"
      }
    },
    {
      "cell_type": "code",
      "source": [
        "def composite_simpsons_rule(arg_f,a,b,symbol,tol=10**-6,Nmax=1000,use_sympy=True):\n",
        "  prev_area=0\n",
        "  for n in range(1,Nmax):\n",
        "    h=(a+b)/n\n",
        "    x=[(a*(n-k)+b*(k))/n for k in range(n+1)]\n",
        "    area=sum(((arg_f.subs({symbol: x[k]})+4*arg_f.subs({symbol: (x[k]+x[k+1])/2})+arg_f.subs({symbol: x[k+1]}))*h/6) for k in range(n))\n",
        "    if abs(area-prev_area)<tol:\n",
        "      break\n",
        "    prev_area=area\n",
        "  return area\n"
      ],
      "metadata": {
        "id": "SPyieiIdijfg"
      },
      "execution_count": 137,
      "outputs": []
    },
    {
      "cell_type": "markdown",
      "source": [
        "---\n"
      ],
      "metadata": {
        "id": "mAoQHSdDjBDP"
      }
    },
    {
      "cell_type": "markdown",
      "source": [
        "###Example1\n",
        "$$\n",
        "I(f)=\\int_{0}^{1} tan^{-1}(x) \\,dx\n",
        "$$"
      ],
      "metadata": {
        "id": "vCAt89lVjzHP"
      }
    },
    {
      "cell_type": "code",
      "source": [
        "x = symbols('x')\n",
        "f=atan(x)\n",
        "print(\"f(x) =\", f)\n",
        "\n",
        "composite_trapezoidal_rule(f,0,1,x,tol=10**-6,Nmax=1000)"
      ],
      "metadata": {
        "colab": {
          "base_uri": "https://localhost:8080/",
          "height": 55
        },
        "id": "kG21JiBlcrIC",
        "outputId": "f81c7a77-e627-417d-f0a4-be5695f759c5"
      },
      "execution_count": 138,
      "outputs": [
        {
          "output_type": "stream",
          "name": "stdout",
          "text": [
            "f(x) = atan(x)\n"
          ]
        },
        {
          "output_type": "execute_result",
          "data": {
            "text/plain": [
              "0.438803996138926"
            ],
            "text/latex": "$\\displaystyle 0.438803996138926$"
          },
          "metadata": {},
          "execution_count": 138
        }
      ]
    },
    {
      "cell_type": "code",
      "source": [
        "composite_midpoint_rule(f,0,1,x,tol=10**-6,Nmax=1000)"
      ],
      "metadata": {
        "colab": {
          "base_uri": "https://localhost:8080/",
          "height": 37
        },
        "id": "bngsZBZmdTNs",
        "outputId": "3d2416c7-6d33-408d-c62f-a150c0c3c993"
      },
      "execution_count": 139,
      "outputs": [
        {
          "output_type": "execute_result",
          "data": {
            "text/plain": [
              "0.438840650029616"
            ],
            "text/latex": "$\\displaystyle 0.438840650029616$"
          },
          "metadata": {},
          "execution_count": 139
        }
      ]
    },
    {
      "cell_type": "code",
      "source": [
        "composite_simpsons_rule(f,0,1,x,tol=10**-6,Nmax=1000)"
      ],
      "metadata": {
        "colab": {
          "base_uri": "https://localhost:8080/",
          "height": 37
        },
        "id": "wE1gFgYGjD80",
        "outputId": "73701798-61af-4be2-84df-e9531b4701da"
      },
      "execution_count": 140,
      "outputs": [
        {
          "output_type": "execute_result",
          "data": {
            "text/plain": [
              "0.438825249007574"
            ],
            "text/latex": "$\\displaystyle 0.438825249007574$"
          },
          "metadata": {},
          "execution_count": 140
        }
      ]
    },
    {
      "cell_type": "markdown",
      "source": [
        "###Example2\n",
        "$$\n",
        "I(f)=\\int_{0}^{1} \\sqrt{1+x^3}\\,dx\n",
        "$$"
      ],
      "metadata": {
        "id": "T_qs1SR4jS5j"
      }
    },
    {
      "cell_type": "code",
      "execution_count": 141,
      "metadata": {
        "colab": {
          "base_uri": "https://localhost:8080/",
          "height": 55
        },
        "id": "YBILQPN9QFLQ",
        "outputId": "eccc11ac-9e74-4152-bb76-288a57cf38cc"
      },
      "outputs": [
        {
          "output_type": "stream",
          "name": "stdout",
          "text": [
            "g(x) = sqrt(x**3 + 1)\n"
          ]
        },
        {
          "output_type": "execute_result",
          "data": {
            "text/plain": [
              "1.11147517582606"
            ],
            "text/latex": "$\\displaystyle 1.11147517582606$"
          },
          "metadata": {},
          "execution_count": 141
        }
      ],
      "source": [
        "g=sqrt(1+x**3)\n",
        "print(\"g(x) =\", g)\n",
        "\n",
        "composite_trapezoidal_rule(g,0,1,x,tol=10**-6,Nmax=1000)"
      ]
    },
    {
      "cell_type": "code",
      "source": [
        "composite_midpoint_rule(g,0,1,x,tol=10**-6,Nmax=1000)"
      ],
      "metadata": {
        "colab": {
          "base_uri": "https://localhost:8080/",
          "height": 37
        },
        "id": "SM3nqjHwdTnE",
        "outputId": "d15936f8-9c0e-40dd-8ddb-1b9d6af38720"
      },
      "execution_count": 142,
      "outputs": [
        {
          "output_type": "execute_result",
          "data": {
            "text/plain": [
              "1.11142708376894"
            ],
            "text/latex": "$\\displaystyle 1.11142708376894$"
          },
          "metadata": {},
          "execution_count": 142
        }
      ]
    },
    {
      "cell_type": "code",
      "source": [
        "composite_simpsons_rule(g,0,1,x,tol=10**-6,Nmax=1000)"
      ],
      "metadata": {
        "colab": {
          "base_uri": "https://localhost:8080/",
          "height": 37
        },
        "id": "MJgO5rpHjEqp",
        "outputId": "a05adf94-61ac-40b9-8b4f-73dde42ef8e5"
      },
      "execution_count": 143,
      "outputs": [
        {
          "output_type": "execute_result",
          "data": {
            "text/plain": [
              "1.11144741097075"
            ],
            "text/latex": "$\\displaystyle 1.11144741097075$"
          },
          "metadata": {},
          "execution_count": 143
        }
      ]
    }
  ]
}