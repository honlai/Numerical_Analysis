{
  "nbformat": 4,
  "nbformat_minor": 0,
  "metadata": {
    "colab": {
      "provenance": [],
      "authorship_tag": "ABX9TyMnRbukvzD91Zd+EPTa71Kp"
    },
    "kernelspec": {
      "name": "python3",
      "display_name": "Python 3"
    },
    "language_info": {
      "name": "python"
    }
  },
  "cells": [
    {
      "cell_type": "markdown",
      "source": [
        "$$\n",
        "I(f)=\\int_{a}^{b} f(x) \\,dx\n",
        "$$"
      ],
      "metadata": {
        "id": "nFjFGcHokvLf"
      }
    },
    {
      "cell_type": "code",
      "source": [
        "from sympy import symbols, sqrt, sin, asin, cos, acos, sec, asec,tan,atan, exp, log, integrate"
      ],
      "metadata": {
        "id": "NwNki8YQUYcs"
      },
      "execution_count": 124,
      "outputs": []
    },
    {
      "cell_type": "markdown",
      "source": [
        "###Composite trapezoidal rule\n",
        "\n",
        "$$\n",
        "I(f)=\\sum_{j=1}^n \\int_{x_{j-1}}^{x_{j}} f(x) \\,dx\n",
        "$$\n",
        "\n",
        "$$\n",
        "=\\sum_{j=1}^n \\frac{(x_{j}-x_{j-1})}{2} [f(x_{j-1})+f(x_{j})]-\\sum_{j=1}^n\\frac{(x_{j}-x_{j-1})^3}{12}f^{(2)}(\\xi_j)\n",
        "$$\n",
        "\n",
        "$$\n",
        "=\\frac{h}{2}[f(x_{0})+2\\sum_{j=1}^{n-1}f(x_{j})+f(x_{n})]-\\frac{h^3}{12}\\sum_{j=1}^nf^{(2)}(\\xi_j)\n",
        "$$\n",
        "\n",
        "$$\n",
        "h=\\frac{b-a}{n}\n",
        "$$\n",
        "\n",
        "$$\n",
        "x_i=a+ih  (0\\le i \\le n)\n",
        "$$\n",
        "\n"
      ],
      "metadata": {
        "id": "onP47w4UQOxg"
      }
    },
    {
      "cell_type": "code",
      "source": [
        "def composite_trapezoidal_rule(arg_f,a,b,symbol,tol=10**-6,Nmax=1000,use_sympy=True):\n",
        "  prev_area=0\n",
        "  for n in range(1,Nmax):\n",
        "    h=(a+b)/n\n",
        "    x=[(a*(n-k)+b*(k))/n for k in range(n+1)]\n",
        "    area=sum(((arg_f.subs({symbol: x[k]})+arg_f.subs({symbol: x[k+1]}))*h)/2 for k in range(n))\n",
        "    if abs(area-prev_area)<tol:\n",
        "      break\n",
        "    prev_area=area\n",
        "  return area\n"
      ],
      "metadata": {
        "id": "GAivL_LZVOst"
      },
      "execution_count": 125,
      "outputs": []
    },
    {
      "cell_type": "markdown",
      "source": [
        "###Composite midpoint rule\n",
        "$$\n",
        "I(f)=\\sum_{j=1}^m \\int_{x_{2j-2}}^{x_{2j}} f(x) \\,dx\n",
        "$$\n",
        "\n",
        "$$\n",
        "=\\sum_{j=1}^m (x_{2j}-x_{2j-2}) f(x_{2j-1}) -error\n",
        "$$\n",
        "\n",
        "$$\n",
        "=h\\sum_{j=1}^mf(x_{2j-1}) -error\n",
        "$$\n",
        "\n",
        "$$\n",
        "h=\\frac{b-a}{n}=\\frac{b-a}{2m}\n",
        "$$\n",
        "\n",
        "$$\n",
        "x_i=a+ih  (0\\le i \\le2m)\n",
        "$$"
      ],
      "metadata": {
        "id": "xU71vtqec4zP"
      }
    },
    {
      "cell_type": "code",
      "source": [
        "def composite_midpoint_rule(arg_f,a,b,symbol,tol=10**-6,Nmax=1000,use_sympy=True):\n",
        "  prev_area=0\n",
        "  for n in range(1,Nmax):\n",
        "    h=(a+b)/n\n",
        "    x=[(a*(n-k)+b*(k))/n for k in range(n+1)]\n",
        "    area=sum(((arg_f.subs({symbol: (x[k]+x[k+1])/2}))*h) for k in range(n))\n",
        "    if abs(area-prev_area)<tol:\n",
        "      break\n",
        "    prev_area=area\n",
        "  return area\n"
      ],
      "metadata": {
        "id": "sGgWCph8c8AD"
      },
      "execution_count": 126,
      "outputs": []
    },
    {
      "cell_type": "markdown",
      "source": [
        "###Composite Simpson's rule\n",
        "\n",
        "$$\n",
        "I(f)=\\sum_{j=1}^m \\int_{x_{2j-2}}^{x_{2j}} f(x) \\,dx\n",
        "$$\n",
        "\n",
        "$$\n",
        "=\\sum_{j=1}^m \\frac{(x_{2j}-x_{2j-2})}{6} [f(x_{2j-2})+4f(x_{2j-1})+f(x_{2j})]-\\sum_{j=1}^m\\frac{(x_{2j}-x_{2j-2})^5}{2880}f^{(4)}(\\xi_j)\n",
        "$$\n",
        "\n",
        "$$\n",
        "=\\frac{h}{3}[f(x_{0})+4\\sum_{j=1}^mf(x_{2j-1})+2\\sum_{j=1}^{m-1}f(x_{2j})+f(x_{2m})]-\\frac{h^5}{90}\\sum_{j=1}^mf^{(4)}(\\xi_j)\n",
        "$$\n",
        "\n",
        "$$\n",
        "h=\\frac{b-a}{n}=\\frac{b-a}{2m}\n",
        "$$\n",
        "\n",
        "$$\n",
        "x_i=a+ih  (0\\le i \\le2m)\n",
        "$$"
      ],
      "metadata": {
        "id": "TRXG4M9Nc7S8"
      }
    },
    {
      "cell_type": "code",
      "source": [
        "def composite_simpsons_rule(arg_f,a,b,symbol,tol=10**-6,Nmax=1000,use_sympy=True):\n",
        "  prev_area=0\n",
        "  for n in range(1,Nmax):\n",
        "    h=(a+b)/n\n",
        "    x=[(a*(n-k)+b*(k))/n for k in range(n+1)]\n",
        "    area=sum(((arg_f.subs({symbol: x[k]}) \\\n",
        "          +4*arg_f.subs({symbol: (x[k]+x[k+1])/2}) \\\n",
        "          +arg_f.subs({symbol: x[k+1]}))*h/6) for k in range(n))\n",
        "    if abs(area-prev_area)<tol:\n",
        "      break\n",
        "    prev_area=area\n",
        "  return area\n"
      ],
      "metadata": {
        "id": "SPyieiIdijfg"
      },
      "execution_count": 127,
      "outputs": []
    },
    {
      "cell_type": "markdown",
      "source": [
        "---\n"
      ],
      "metadata": {
        "id": "mAoQHSdDjBDP"
      }
    },
    {
      "cell_type": "markdown",
      "source": [
        "###Example1\n",
        "$$\n",
        "I(f)=\\int_{0}^{1} tan^{-1}(x) \\,dx\n",
        "$$"
      ],
      "metadata": {
        "id": "vCAt89lVjzHP"
      }
    },
    {
      "cell_type": "code",
      "source": [
        "x = symbols('x')\n",
        "f=atan(x)\n",
        "print(\"f(x) =\", f)\n",
        "\n",
        "composite_trapezoidal_rule(f,0,1,x,tol=10**-6,Nmax=1000)"
      ],
      "metadata": {
        "colab": {
          "base_uri": "https://localhost:8080/",
          "height": 55
        },
        "id": "kG21JiBlcrIC",
        "outputId": "7306f3fc-a78b-4e86-ca6d-d60e7e83e78f"
      },
      "execution_count": 128,
      "outputs": [
        {
          "output_type": "stream",
          "name": "stdout",
          "text": [
            "f(x) = atan(x)\n"
          ]
        },
        {
          "output_type": "execute_result",
          "data": {
            "text/plain": [
              "0.438803996138926"
            ],
            "text/latex": "$\\displaystyle 0.438803996138926$"
          },
          "metadata": {},
          "execution_count": 128
        }
      ]
    },
    {
      "cell_type": "code",
      "source": [
        "composite_midpoint_rule(f,0,1,x,tol=10**-6,Nmax=1000)"
      ],
      "metadata": {
        "colab": {
          "base_uri": "https://localhost:8080/",
          "height": 37
        },
        "id": "bngsZBZmdTNs",
        "outputId": "cb5ef337-c8c5-413a-967e-6f89fd58b554"
      },
      "execution_count": 129,
      "outputs": [
        {
          "output_type": "execute_result",
          "data": {
            "text/plain": [
              "0.438840650029616"
            ],
            "text/latex": "$\\displaystyle 0.438840650029616$"
          },
          "metadata": {},
          "execution_count": 129
        }
      ]
    },
    {
      "cell_type": "code",
      "source": [
        "composite_simpsons_rule(f,0,1,x,tol=10**-6,Nmax=1000)"
      ],
      "metadata": {
        "colab": {
          "base_uri": "https://localhost:8080/",
          "height": 37
        },
        "id": "wE1gFgYGjD80",
        "outputId": "040c1713-5e8b-439a-8621-2af11e027195"
      },
      "execution_count": 130,
      "outputs": [
        {
          "output_type": "execute_result",
          "data": {
            "text/plain": [
              "0.438825249007574"
            ],
            "text/latex": "$\\displaystyle 0.438825249007574$"
          },
          "metadata": {},
          "execution_count": 130
        }
      ]
    },
    {
      "cell_type": "markdown",
      "source": [
        "###Example2\n",
        "$$\n",
        "I(f)=\\int_{0}^{1} \\sqrt{1+x^3}\\,dx\n",
        "$$"
      ],
      "metadata": {
        "id": "T_qs1SR4jS5j"
      }
    },
    {
      "cell_type": "code",
      "execution_count": 131,
      "metadata": {
        "colab": {
          "base_uri": "https://localhost:8080/",
          "height": 55
        },
        "id": "YBILQPN9QFLQ",
        "outputId": "0e844bf3-2113-4d7b-f0e6-da0c79f57de1"
      },
      "outputs": [
        {
          "output_type": "stream",
          "name": "stdout",
          "text": [
            "g(x) = sqrt(x**3 + 1)\n"
          ]
        },
        {
          "output_type": "execute_result",
          "data": {
            "text/plain": [
              "1.11147517582606"
            ],
            "text/latex": "$\\displaystyle 1.11147517582606$"
          },
          "metadata": {},
          "execution_count": 131
        }
      ],
      "source": [
        "g=sqrt(1+x**3)\n",
        "print(\"g(x) =\", g)\n",
        "\n",
        "composite_trapezoidal_rule(g,0,1,x,tol=10**-6,Nmax=1000)"
      ]
    },
    {
      "cell_type": "code",
      "source": [
        "composite_midpoint_rule(g,0,1,x,tol=10**-6,Nmax=1000)"
      ],
      "metadata": {
        "colab": {
          "base_uri": "https://localhost:8080/",
          "height": 37
        },
        "id": "SM3nqjHwdTnE",
        "outputId": "d11d983a-59fa-4b5c-bd0e-cf60e651f00f"
      },
      "execution_count": 132,
      "outputs": [
        {
          "output_type": "execute_result",
          "data": {
            "text/plain": [
              "1.11142708376894"
            ],
            "text/latex": "$\\displaystyle 1.11142708376894$"
          },
          "metadata": {},
          "execution_count": 132
        }
      ]
    },
    {
      "cell_type": "code",
      "source": [
        "composite_simpsons_rule(g,0,1,x,tol=10**-6,Nmax=1000)"
      ],
      "metadata": {
        "colab": {
          "base_uri": "https://localhost:8080/",
          "height": 37
        },
        "id": "MJgO5rpHjEqp",
        "outputId": "3697825f-8e87-4ee3-b504-a286c6a90293"
      },
      "execution_count": 133,
      "outputs": [
        {
          "output_type": "execute_result",
          "data": {
            "text/plain": [
              "1.11144741097075"
            ],
            "text/latex": "$\\displaystyle 1.11144741097075$"
          },
          "metadata": {},
          "execution_count": 133
        }
      ]
    }
  ]
}