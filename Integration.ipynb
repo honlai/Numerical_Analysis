{
  "nbformat": 4,
  "nbformat_minor": 0,
  "metadata": {
    "colab": {
      "provenance": [],
      "authorship_tag": "ABX9TyMwIq/RvM/SsaAC4+lx0baS"
    },
    "kernelspec": {
      "name": "python3",
      "display_name": "Python 3"
    },
    "language_info": {
      "name": "python"
    }
  },
  "cells": [
    {
      "cell_type": "markdown",
      "source": [
        "$$\n",
        "I(f)=\\int_{a}^{b} f(x) \\,dx\n",
        "$$"
      ],
      "metadata": {
        "id": "nFjFGcHokvLf"
      }
    },
    {
      "cell_type": "code",
      "source": [
        "from sympy import symbols, sqrt, sin, asin, cos, acos, sec, asec,tan,atan, exp, log, integrate"
      ],
      "metadata": {
        "id": "NwNki8YQUYcs"
      },
      "execution_count": 81,
      "outputs": []
    },
    {
      "cell_type": "markdown",
      "source": [
        "###Composite trapezoidal rule\n",
        "\n",
        "$$\n",
        "I(f)=\\sum_{j=1}^n \\int_{x_{j-1}}^{x_{j}} f(x) \\,dx\n",
        "$$\n",
        "\n",
        "$$\n",
        "=\\sum_{j=1}^n \\frac{(x_{j}-x_{j-1})}{2} [f(x_{j-1})+f(x_{j})]-\\sum_{j=1}^n\\frac{(x_{j}-x_{j-1})^3}{12}f^{(2)}(\\xi_j)\n",
        "$$\n",
        "\n",
        "$$\n",
        "=\\frac{h}{2}[f(x_{0})+2\\sum_{j=1}^{n-1}f(x_{j})+f(x_{n})]-\\frac{h^3}{12}\\sum_{j=1}^nf^{(2)}(\\xi_j)\n",
        "$$\n",
        "\n",
        "$$\n",
        "h=\\frac{b-a}{n}\n",
        "$$\n",
        "\n",
        "$$\n",
        "x_i=a+ih  (0\\le i \\le n)\n",
        "$$\n",
        "\n"
      ],
      "metadata": {
        "id": "onP47w4UQOxg"
      }
    },
    {
      "cell_type": "code",
      "source": [
        "def composite_trapezoidal_rule(arg_f,a,b,symbol,tol=10**-6,Nmax=1000,use_sympy=True,log=False):\n",
        "  prev_area=0\n",
        "  i=1\n",
        "  for n in range(1,Nmax):\n",
        "    h=(a+b)/n\n",
        "    x=[(a*(n-k)+b*(k))/n for k in range(n+1)]\n",
        "    area=sum(((arg_f.subs({symbol: x[k]})+arg_f.subs({symbol: x[k+1]}))*h)/2\\\n",
        "             for k in range(n))\n",
        "    if log & (n == i):\n",
        "      i*=2\n",
        "      print(f\"n: {n}\")\n",
        "      print(f\"I: {area}\")\n",
        "      print(f\"error: {abs(area-prev_area)}\\n\")\n",
        "    if abs(area-prev_area) < tol:\n",
        "      print(f\"n: {n}\")\n",
        "      break\n",
        "    prev_area=area\n",
        "  return area\n"
      ],
      "metadata": {
        "id": "GAivL_LZVOst"
      },
      "execution_count": 82,
      "outputs": []
    },
    {
      "cell_type": "markdown",
      "source": [
        "###Composite midpoint rule\n",
        "$$\n",
        "I(f)=\\sum_{j=1}^m \\int_{x_{2j-2}}^{x_{2j}} f(x) \\,dx\n",
        "$$\n",
        "\n",
        "$$\n",
        "=\\sum_{j=1}^m (x_{2j}-x_{2j-2}) f(x_{2j-1}) -error\n",
        "$$\n",
        "\n",
        "$$\n",
        "=h\\sum_{j=1}^mf(x_{2j-1}) -error\n",
        "$$\n",
        "\n",
        "$$\n",
        "h=\\frac{b-a}{n}=\\frac{b-a}{2m}\n",
        "$$\n",
        "\n",
        "$$\n",
        "x_i=a+ih  (0\\le i \\le2m)\n",
        "$$"
      ],
      "metadata": {
        "id": "xU71vtqec4zP"
      }
    },
    {
      "cell_type": "code",
      "source": [
        "def composite_midpoint_rule(arg_f,a,b,symbol,tol=10**-6,Nmax=1000,use_sympy=True,log=False):\n",
        "  prev_area=0\n",
        "  i=1\n",
        "  for n in range(1,Nmax):\n",
        "    h=(a+b)/n\n",
        "    x=[(a*(n-k)+b*(k))/n for k in range(n+1)]\n",
        "    area=sum(((arg_f.subs({symbol: (x[k]+x[k+1])/2}))*h)\\\n",
        "             for k in range(n))\n",
        "    if log & (n == i):\n",
        "      i*=2\n",
        "      print(f\"n: {n}\")\n",
        "      print(f\"I: {area}\")\n",
        "      print(f\"error: {abs(area-prev_area)}\\n\")\n",
        "    if abs(area-prev_area) < tol:\n",
        "      print(f\"n: {n}\")\n",
        "      break\n",
        "    prev_area=area\n",
        "  return area\n"
      ],
      "metadata": {
        "id": "sGgWCph8c8AD"
      },
      "execution_count": 83,
      "outputs": []
    },
    {
      "cell_type": "markdown",
      "source": [
        "###Composite Simpson's rule\n",
        "\n",
        "$$\n",
        "I(f)=\\sum_{j=1}^m \\int_{x_{2j-2}}^{x_{2j}} f(x) \\,dx\n",
        "$$\n",
        "\n",
        "$$\n",
        "=\\sum_{j=1}^m \\frac{(x_{2j}-x_{2j-2})}{6} [f(x_{2j-2})+4f(x_{2j-1})+f(x_{2j})]-\\sum_{j=1}^m\\frac{(x_{2j}-x_{2j-2})^5}{2880}f^{(4)}(\\xi_j)\n",
        "$$\n",
        "\n",
        "$$\n",
        "=\\frac{h}{3}[f(x_{0})+4\\sum_{j=1}^mf(x_{2j-1})+2\\sum_{j=1}^{m-1}f(x_{2j})+f(x_{2m})]-\\frac{h^5}{90}\\sum_{j=1}^mf^{(4)}(\\xi_j)\n",
        "$$\n",
        "\n",
        "$$\n",
        "h=\\frac{b-a}{n}=\\frac{b-a}{2m}\n",
        "$$\n",
        "\n",
        "$$\n",
        "x_i=a+ih  (0\\le i \\le2m)\n",
        "$$"
      ],
      "metadata": {
        "id": "TRXG4M9Nc7S8"
      }
    },
    {
      "cell_type": "code",
      "source": [
        "def composite_simpsons_rule(arg_f,a,b,symbol,tol=10**-6,Nmax=1000,use_sympy=True,log=False):\n",
        "  prev_area=0\n",
        "  i=1\n",
        "  for n in range(1,Nmax):\n",
        "    h=(a+b)/n\n",
        "    x=[(a*(n-k)+b*(k))/n for k in range(n+1)]\n",
        "    area=sum(((arg_f.subs({symbol: x[k]})\\\n",
        "        +4*arg_f.subs({symbol: (x[k]+x[k+1])/2})\\\n",
        "        +arg_f.subs({symbol: x[k+1]}))*h/6)\\\n",
        "             for k in range(n))\n",
        "    if log & (n == i):\n",
        "      i*=2\n",
        "      print(f\"n: {n}\")\n",
        "      print(f\"I: {area}\")\n",
        "      print(f\"error: {abs(area-prev_area)}\\n\")\n",
        "    if abs(area-prev_area) < tol:\n",
        "      print(f\"n: {n}\")\n",
        "      break\n",
        "    prev_area=area\n",
        "  return area\n"
      ],
      "metadata": {
        "id": "SPyieiIdijfg"
      },
      "execution_count": 84,
      "outputs": []
    },
    {
      "cell_type": "markdown",
      "source": [
        "---\n"
      ],
      "metadata": {
        "id": "mAoQHSdDjBDP"
      }
    },
    {
      "cell_type": "markdown",
      "source": [
        "###Example1\n",
        "$$\n",
        "I(f)=\\int_{0}^{1} tan^{-1}(x) \\,dx\n",
        "$$"
      ],
      "metadata": {
        "id": "vCAt89lVjzHP"
      }
    },
    {
      "cell_type": "code",
      "source": [
        "x = symbols('x')\n",
        "f=atan(x)\n",
        "print(\"f(x) =\", f)\n",
        "\n",
        "composite_trapezoidal_rule(f,0,1,x,tol=10**-6,Nmax=1000,log=True)"
      ],
      "metadata": {
        "colab": {
          "base_uri": "https://localhost:8080/",
          "height": 488
        },
        "id": "kG21JiBlcrIC",
        "outputId": "39809c0d-f0eb-4f46-c225-c9ce58b9c43f"
      },
      "execution_count": 85,
      "outputs": [
        {
          "output_type": "stream",
          "name": "stdout",
          "text": [
            "f(x) = atan(x)\n",
            "n: 1\n",
            "I: 0.392699081698724\n",
            "error: 0.392699081698724\n",
            "\n",
            "n: 2\n",
            "I: 0.428173345349765\n",
            "error: 0.0354742636510410\n",
            "\n",
            "n: 4\n",
            "I: 0.436206615654920\n",
            "error: 0.00205586910727512\n",
            "\n",
            "n: 8\n",
            "I: 0.438172680300275\n",
            "error: 0.000199901164546712\n",
            "\n",
            "n: 16\n",
            "I: 0.438661759665553\n",
            "error: 0.0000224403989729782\n",
            "\n",
            "n: 32\n",
            "I: 0.438783879701108\n",
            "error: 0.00000266795800113462\n",
            "\n",
            "n: 45\n"
          ]
        },
        {
          "output_type": "execute_result",
          "data": {
            "text/plain": [
              "0.438803996138926"
            ],
            "text/latex": "$\\displaystyle 0.438803996138926$"
          },
          "metadata": {},
          "execution_count": 85
        }
      ]
    },
    {
      "cell_type": "code",
      "source": [
        "composite_midpoint_rule(f,0,1,x,tol=10**-6,Nmax=1000,log=True)"
      ],
      "metadata": {
        "colab": {
          "base_uri": "https://localhost:8080/",
          "height": 471
        },
        "id": "bngsZBZmdTNs",
        "outputId": "943e3a94-b4f8-4425-c0d0-74b63c92c756"
      },
      "execution_count": 86,
      "outputs": [
        {
          "output_type": "stream",
          "name": "stdout",
          "text": [
            "n: 1\n",
            "I: 0.463647609000806\n",
            "error: 0.463647609000806\n",
            "\n",
            "n: 2\n",
            "I: 0.444239885960074\n",
            "error: 0.0194077230407319\n",
            "\n",
            "n: 4\n",
            "I: 0.440138744945630\n",
            "error: 0.00103944259174854\n",
            "\n",
            "n: 8\n",
            "I: 0.439150839030832\n",
            "error: 0.000100176992853918\n",
            "\n",
            "n: 16\n",
            "I: 0.438905999736662\n",
            "error: 0.0000112260632766370\n",
            "\n",
            "n: 32\n",
            "I: 0.438844921067813\n",
            "error: 0.00000133414723096914\n",
            "\n",
            "n: 36\n"
          ]
        },
        {
          "output_type": "execute_result",
          "data": {
            "text/plain": [
              "0.438840650029616"
            ],
            "text/latex": "$\\displaystyle 0.438840650029616$"
          },
          "metadata": {},
          "execution_count": 86
        }
      ]
    },
    {
      "cell_type": "code",
      "source": [
        "composite_simpsons_rule(f,0,1,x,tol=10**-6,Nmax=1000,log=True)"
      ],
      "metadata": {
        "colab": {
          "base_uri": "https://localhost:8080/",
          "height": 263
        },
        "id": "wE1gFgYGjD80",
        "outputId": "9097478c-bcae-4dba-8864-1d3b875af213"
      },
      "execution_count": 87,
      "outputs": [
        {
          "output_type": "stream",
          "name": "stdout",
          "text": [
            "n: 1\n",
            "I: 0.439998099900112\n",
            "error: 0.439998099900112\n",
            "\n",
            "n: 2\n",
            "I: 0.438884372423305\n",
            "error: 0.00111372747680760\n",
            "\n",
            "n: 4\n",
            "I: 0.438828035182060\n",
            "error: 0.00000767202540724599\n",
            "\n",
            "n: 6\n"
          ]
        },
        {
          "output_type": "execute_result",
          "data": {
            "text/plain": [
              "0.438825249007574"
            ],
            "text/latex": "$\\displaystyle 0.438825249007574$"
          },
          "metadata": {},
          "execution_count": 87
        }
      ]
    },
    {
      "cell_type": "markdown",
      "source": [
        "###Example2\n",
        "$$\n",
        "I(f)=\\int_{0}^{1} \\sqrt{1+x^3}\\,dx\n",
        "$$"
      ],
      "metadata": {
        "id": "T_qs1SR4jS5j"
      }
    },
    {
      "cell_type": "code",
      "execution_count": 88,
      "metadata": {
        "colab": {
          "base_uri": "https://localhost:8080/",
          "height": 72
        },
        "id": "YBILQPN9QFLQ",
        "outputId": "2b30da80-c620-44b6-9144-d55637d22c26"
      },
      "outputs": [
        {
          "output_type": "stream",
          "name": "stdout",
          "text": [
            "g(x) = sqrt(x**3 + 1)\n",
            "n: 57\n"
          ]
        },
        {
          "output_type": "execute_result",
          "data": {
            "text/plain": [
              "1.11147517582606"
            ],
            "text/latex": "$\\displaystyle 1.11147517582606$"
          },
          "metadata": {},
          "execution_count": 88
        }
      ],
      "source": [
        "g=sqrt(1+x**3)\n",
        "print(\"g(x) =\", g)\n",
        "\n",
        "composite_trapezoidal_rule(g,0,1,x,tol=10**-6,Nmax=1000)"
      ]
    },
    {
      "cell_type": "code",
      "source": [
        "composite_midpoint_rule(g,0,1,x,tol=10**-6,Nmax=1000)"
      ],
      "metadata": {
        "colab": {
          "base_uri": "https://localhost:8080/",
          "height": 55
        },
        "id": "SM3nqjHwdTnE",
        "outputId": "98b4d4ad-ffaa-47df-d5a0-34ef58fadcc0"
      },
      "execution_count": 89,
      "outputs": [
        {
          "output_type": "stream",
          "name": "stdout",
          "text": [
            "n: 46\n"
          ]
        },
        {
          "output_type": "execute_result",
          "data": {
            "text/plain": [
              "1.11142708376894"
            ],
            "text/latex": "$\\displaystyle 1.11142708376894$"
          },
          "metadata": {},
          "execution_count": 89
        }
      ]
    },
    {
      "cell_type": "code",
      "source": [
        "composite_simpsons_rule(g,0,1,x,tol=10**-6,Nmax=1000)"
      ],
      "metadata": {
        "colab": {
          "base_uri": "https://localhost:8080/",
          "height": 55
        },
        "id": "MJgO5rpHjEqp",
        "outputId": "cf8d2db3-12b9-4967-ade8-2501ea2c4c2a"
      },
      "execution_count": 90,
      "outputs": [
        {
          "output_type": "stream",
          "name": "stdout",
          "text": [
            "n: 7\n"
          ]
        },
        {
          "output_type": "execute_result",
          "data": {
            "text/plain": [
              "1.11144741097075"
            ],
            "text/latex": "$\\displaystyle 1.11144741097075$"
          },
          "metadata": {},
          "execution_count": 90
        }
      ]
    }
  ]
}