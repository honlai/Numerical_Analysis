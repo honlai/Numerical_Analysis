{
  "nbformat": 4,
  "nbformat_minor": 0,
  "metadata": {
    "colab": {
      "provenance": [],
      "authorship_tag": "ABX9TyOODHCBhynzRjWniKJeNvHU"
    },
    "kernelspec": {
      "name": "python3",
      "display_name": "Python 3"
    },
    "language_info": {
      "name": "python"
    }
  },
  "cells": [
    {
      "cell_type": "markdown",
      "source": [
        "To approximating the ezigenvalues and eigenvectors of an $n \\times n$ matrix\n",
        "$$A\\textbf{v}=\\lambda\\textbf{v}$$"
      ],
      "metadata": {
        "id": "E--M-QRycEGv"
      }
    },
    {
      "cell_type": "code",
      "execution_count": null,
      "metadata": {
        "id": "dQJ8SkpKb7Bi"
      },
      "outputs": [],
      "source": [
        "import sympy as sp\n",
        "def infinity_norm(arg_x):\n",
        "  i=0\n",
        "  max=0\n",
        "  max_i=0\n",
        "  for k in range(len(arg_x)):\n",
        "    i+=1\n",
        "    if abs(arg_x[k])>abs(max):\n",
        "      max=arg_x[k]\n",
        "      max_i=i\n",
        "  return [max,max_i]"
      ]
    },
    {
      "cell_type": "code",
      "source": [
        "def power_method(arg_A, x0, Nmax, tol, use_convergence_of_eigenvector=True,log=False,precision=6):\n",
        "  x=x0\n",
        "  [inf_n,p]=infinity_norm(x)\n",
        "  l=0\n",
        "  prev_l=l\n",
        "  if log:\n",
        "    print(\"A: \",arg_A)\n",
        "    print(\"Step: 0\")\n",
        "    print(\"x: \",x.evalf(precision))\n",
        "    print(\"infinity norm: \",inf_n.evalf(precision))\n",
        "    print(\"p: \",p,'\\n')\n",
        "  for m in range(Nmax):\n",
        "    y=arg_A*x\n",
        "    l=y[p-1]\n",
        "    er = abs(l-prev_l)\n",
        "    [inf_n,p]=infinity_norm(y)\n",
        "    prev_x=x\n",
        "    prev_l=l\n",
        "    x=y/inf_n\n",
        "    if log:\n",
        "      print(\"Step: \",m+1)\n",
        "      print(\"x: \",x.evalf(precision))\n",
        "      print(\"y: \",y.evalf(precision))\n",
        "      print(\"lambda: \",l.evalf(precision))\n",
        "      print(\"infinity norm: \",inf_n.evalf(precision))\n",
        "      print(\"p: \",p,'\\n')\n",
        "    if use_convergence_of_eigenvector:\n",
        "      er = (x-prev_x).norm(sp.oo)\n",
        "    if er < tol:\n",
        "      break\n",
        "  return [x.evalf(precision),l.evalf(precision)]"
      ],
      "metadata": {
        "id": "k5wHoSQ57g3K"
      },
      "execution_count": null,
      "outputs": []
    },
    {
      "cell_type": "markdown",
      "source": [
        "$$\\textbf{A}=\n",
        "\\begin{bmatrix}\n",
        "    -2&-2&3\\\\\n",
        "    -10&-1&6\\\\\n",
        "    10&-2&-9\n",
        "\\end{bmatrix}$$"
      ],
      "metadata": {
        "id": "Sw4FWDzqj9jt"
      }
    },
    {
      "cell_type": "code",
      "source": [
        "A=sp.Matrix([[-2,-2,3],\\\n",
        "      [-10,-1,6],\\\n",
        "      [10,-2,-9]])\n",
        "x0=sp.Matrix([1,0,0])\n",
        "Nmax=100\n",
        "tol=5*(10**-6)\n",
        "[x,l]=power_method(A, x0, Nmax, tol)\n",
        "print(\"Solution:\\nx:\",x,\"\\nlamda\",l)"
      ],
      "metadata": {
        "colab": {
          "base_uri": "https://localhost:8080/"
        },
        "id": "eQobUqGVj9RQ",
        "outputId": "9a620f3f-4748-4f81-9db6-7faa6e4737f0"
      },
      "execution_count": null,
      "outputs": [
        {
          "output_type": "stream",
          "name": "stdout",
          "text": [
            "Solution:\n",
            "x: Matrix([[0.500000], [1.00000], [-1.00000]]) \n",
            "lamda -12.0000\n"
          ]
        }
      ]
    },
    {
      "cell_type": "markdown",
      "source": [
        "---"
      ],
      "metadata": {
        "id": "foLejybDDS7L"
      }
    },
    {
      "cell_type": "code",
      "source": [
        "import random\n",
        "rnd=[random.uniform(0, 1),random.uniform(0, 1),random.uniform(0, 1),random.uniform(0, 1)]\n",
        "print(\"rnd:\",rnd)"
      ],
      "metadata": {
        "colab": {
          "base_uri": "https://localhost:8080/"
        },
        "id": "jElEPtvvDRFy",
        "outputId": "16d7a917-9041-416c-fff9-d8517d66280e"
      },
      "execution_count": null,
      "outputs": [
        {
          "output_type": "stream",
          "name": "stdout",
          "text": [
            "rnd: [0.7571416737310417, 0.5382115775140853, 0.2092389071877404, 0.8549929114468882]\n"
          ]
        }
      ]
    },
    {
      "cell_type": "markdown",
      "source": [
        "---\n",
        "$$\\textbf{A}=\n",
        "\\begin{bmatrix}\n",
        "    4&2&-2&2\\\\\n",
        "    1&3&1&-1\\\\\n",
        "    0&0&2&0\\\\\n",
        "    1&1&-3&5\n",
        "\\end{bmatrix}$$"
      ],
      "metadata": {
        "id": "pH7Oa3rWy2KP"
      }
    },
    {
      "cell_type": "code",
      "source": [
        "A=sp.Matrix([[4,2,-2,2],\\\n",
        "      [1,3,1,-1],\\\n",
        "      [0,0,2,0],\\\n",
        "      [1,1,-3,5]])\n",
        "x0=sp.Matrix(rnd)\n",
        "print(\"x0:\",x0)\n",
        "Nmax=100\n",
        "tol=5*(10**-5)"
      ],
      "metadata": {
        "colab": {
          "base_uri": "https://localhost:8080/"
        },
        "id": "DYJiCIAZy1lm",
        "outputId": "69cea00b-6688-430b-96e2-fcc06bec532d"
      },
      "execution_count": null,
      "outputs": [
        {
          "output_type": "stream",
          "name": "stdout",
          "text": [
            "x0: Matrix([[0.757141673731042], [0.538211577514085], [0.209238907187740], [0.854992911446888]])\n"
          ]
        }
      ]
    },
    {
      "cell_type": "code",
      "source": [
        "[x,l]=power_method(A, x0, Nmax, tol,use_convergence_of_eigenvector=True,log=True)\n",
        "print(\"Solution:\\nx:\",x,\"\\nlamda\",l)"
      ],
      "metadata": {
        "colab": {
          "base_uri": "https://localhost:8080/"
        },
        "id": "DkEPM-2zBt0I",
        "outputId": "6552b616-b75b-456f-c275-74bb79c402f2"
      },
      "execution_count": null,
      "outputs": [
        {
          "output_type": "stream",
          "name": "stdout",
          "text": [
            "A:  Matrix([[4, 2, -2, 2], [1, 3, 1, -1], [0, 0, 2, 0], [1, 1, -3, 5]])\n",
            "Step: 0\n",
            "x:  Matrix([[0.757142], [0.538212], [0.209239], [0.854993]])\n",
            "infinity norm:  0.854993\n",
            "p:  4 \n",
            "\n",
            "Step:  1\n",
            "x:  Matrix([[1.00000], [0.319841], [0.0775462], [0.915890]])\n",
            "y:  Matrix([[5.39650], [1.72602], [0.418478], [4.94260]])\n",
            "lambda:  4.94260\n",
            "infinity norm:  5.39650\n",
            "p:  1 \n",
            "\n",
            "Step:  2\n",
            "x:  Matrix([[1.00000], [0.177504], [0.0245540], [0.897138]])\n",
            "y:  Matrix([[6.31637], [1.12118], [0.155092], [5.66666]])\n",
            "lambda:  6.31637\n",
            "infinity norm:  6.31637\n",
            "p:  1 \n",
            "\n",
            "Step:  3\n",
            "x:  Matrix([[1.00000], [0.108182], [0.00805027], [0.916290]])\n",
            "y:  Matrix([[6.10017], [0.659927], [0.0491081], [5.58953]])\n",
            "lambda:  6.10017\n",
            "infinity norm:  6.10017\n",
            "p:  1 \n",
            "\n",
            "Step:  4\n",
            "x:  Matrix([[1.00000], [0.0690065], [0.00266881], [0.939106]])\n",
            "y:  Matrix([[6.03284], [0.416305], [0.0161005], [5.66548]])\n",
            "lambda:  6.03284\n",
            "infinity norm:  6.03284\n",
            "p:  1 \n",
            "\n",
            "Step:  5\n",
            "x:  Matrix([[1.00000], [0.0450153], [0.000887993], [0.957684]])\n",
            "y:  Matrix([[6.01089], [0.270582], [0.00533763], [5.75653]])\n",
            "lambda:  6.01089\n",
            "infinity norm:  6.01089\n",
            "p:  1 \n",
            "\n",
            "Step:  6\n",
            "x:  Matrix([[1.00000], [0.0296904], [0.000295819], [0.971209]])\n",
            "y:  Matrix([[6.00362], [0.178250], [0.00177599], [5.83077]])\n",
            "lambda:  6.00362\n",
            "infinity norm:  6.00362\n",
            "p:  1 \n",
            "\n",
            "Step:  7\n",
            "x:  Matrix([[1.00000], [0.0196890], [9.85866e-5], [0.980611]])\n",
            "y:  Matrix([[6.00121], [0.118158], [0.000591638], [5.88485]])\n",
            "lambda:  6.00121\n",
            "infinity norm:  6.00121\n",
            "p:  1 \n",
            "\n",
            "Step:  8\n",
            "x:  Matrix([[1.00000], [0.0130916], [3.28600e-5], [0.987008]])\n",
            "y:  Matrix([[6.00040], [0.0785550], [0.000197173], [5.92245]])\n",
            "lambda:  6.00040\n",
            "infinity norm:  6.00040\n",
            "p:  1 \n",
            "\n",
            "Step:  9\n",
            "x:  Matrix([[1.00000], [0.00871639], [1.09531e-5], [0.991317]])\n",
            "y:  Matrix([[6.00013], [0.0522995], [6.57200e-5], [5.94803]])\n",
            "lambda:  6.00013\n",
            "infinity norm:  6.00013\n",
            "p:  1 \n",
            "\n",
            "Step:  10\n",
            "x:  Matrix([[1.00000], [0.00580716], [3.65100e-6], [0.994204]])\n",
            "y:  Matrix([[6.00004], [0.0348432], [2.19062e-5], [5.96527]])\n",
            "lambda:  6.00004\n",
            "infinity norm:  6.00004\n",
            "p:  1 \n",
            "\n",
            "Step:  11\n",
            "x:  Matrix([[1.00000], [0.00387019], [1.21700e-6], [0.996134]])\n",
            "y:  Matrix([[6.00002], [0.0232212], [7.30200e-6], [5.97682]])\n",
            "lambda:  6.00002\n",
            "infinity norm:  6.00002\n",
            "p:  1 \n",
            "\n",
            "Step:  12\n",
            "x:  Matrix([[1.00000], [0.00257971], [4.05665e-7], [0.997422]])\n",
            "y:  Matrix([[6.00000], [0.0154783], [2.43399e-6], [5.98453]])\n",
            "lambda:  6.00000\n",
            "infinity norm:  6.00000\n",
            "p:  1 \n",
            "\n",
            "Step:  13\n",
            "x:  Matrix([[1.00000], [0.00171967], [1.35222e-7], [0.998281]])\n",
            "y:  Matrix([[6.00000], [0.0103180], [8.11331e-7], [5.98969]])\n",
            "lambda:  6.00000\n",
            "infinity norm:  6.00000\n",
            "p:  1 \n",
            "\n",
            "Step:  14\n",
            "x:  Matrix([[1.00000], [0.00114640], [4.50739e-8], [0.998854]])\n",
            "y:  Matrix([[6.00000], [0.00687839], [2.70444e-7], [5.99312]])\n",
            "lambda:  6.00000\n",
            "infinity norm:  6.00000\n",
            "p:  1 \n",
            "\n",
            "Step:  15\n",
            "x:  Matrix([[1.00000], [0.000764251], [1.50246e-8], [0.999236]])\n",
            "y:  Matrix([[6.00000], [0.00458550], [9.01479e-8], [5.99541]])\n",
            "lambda:  6.00000\n",
            "infinity norm:  6.00000\n",
            "p:  1 \n",
            "\n",
            "Step:  16\n",
            "x:  Matrix([[1.00000], [0.000509495], [5.00821e-9], [0.999490]])\n",
            "y:  Matrix([[6.00000], [0.00305697], [3.00493e-8], [5.99694]])\n",
            "lambda:  6.00000\n",
            "infinity norm:  6.00000\n",
            "p:  1 \n",
            "\n",
            "Step:  17\n",
            "x:  Matrix([[1.00000], [0.000339662], [1.66940e-9], [0.999660]])\n",
            "y:  Matrix([[6.00000], [0.00203797], [1.00164e-8], [5.99796]])\n",
            "lambda:  6.00000\n",
            "infinity norm:  6.00000\n",
            "p:  1 \n",
            "\n",
            "Step:  18\n",
            "x:  Matrix([[1.00000], [0.000226441], [5.56468e-10], [0.999774]])\n",
            "y:  Matrix([[6.00000], [0.00135864], [3.33881e-9], [5.99864]])\n",
            "lambda:  6.00000\n",
            "infinity norm:  6.00000\n",
            "p:  1 \n",
            "\n",
            "Step:  19\n",
            "x:  Matrix([[1.00000], [0.000150960], [1.85489e-10], [0.999849]])\n",
            "y:  Matrix([[6.00000], [0.000905761], [1.11294e-9], [5.99909]])\n",
            "lambda:  6.00000\n",
            "infinity norm:  6.00000\n",
            "p:  1 \n",
            "\n",
            "Step:  20\n",
            "x:  Matrix([[1.00000], [0.000100640], [6.18298e-11], [0.999899]])\n",
            "y:  Matrix([[6.00000], [0.000603841], [3.70979e-10], [5.99940]])\n",
            "lambda:  6.00000\n",
            "infinity norm:  6.00000\n",
            "p:  1 \n",
            "\n",
            "Step:  21\n",
            "x:  Matrix([[1.00000], [6.70934e-5], [2.06099e-11], [0.999933]])\n",
            "y:  Matrix([[6.00000], [0.000402560], [1.23660e-10], [5.99960]])\n",
            "lambda:  6.00000\n",
            "infinity norm:  6.00000\n",
            "p:  1 \n",
            "\n",
            "Solution:\n",
            "x: Matrix([[1.00000], [6.70934e-5], [2.06099e-11], [0.999933]]) \n",
            "lamda 6.00000\n"
          ]
        }
      ]
    },
    {
      "cell_type": "code",
      "source": [
        "[x,l]=power_method(A, x0, Nmax, tol,use_convergence_of_eigenvector=False,log=True)\n",
        "print(\"Solution:\\nx:\",x,\"\\nlamda\",l)"
      ],
      "metadata": {
        "colab": {
          "base_uri": "https://localhost:8080/"
        },
        "id": "ZAtsRLP4BjX8",
        "outputId": "3a888bea-6392-4bb9-847e-62ef6d173f46"
      },
      "execution_count": null,
      "outputs": [
        {
          "output_type": "stream",
          "name": "stdout",
          "text": [
            "A:  Matrix([[4, 2, -2, 2], [1, 3, 1, -1], [0, 0, 2, 0], [1, 1, -3, 5]])\n",
            "Step: 0\n",
            "x:  Matrix([[0.757142], [0.538212], [0.209239], [0.854993]])\n",
            "infinity norm:  0.854993\n",
            "p:  4 \n",
            "\n",
            "Step:  1\n",
            "x:  Matrix([[1.00000], [0.319841], [0.0775462], [0.915890]])\n",
            "y:  Matrix([[5.39650], [1.72602], [0.418478], [4.94260]])\n",
            "lambda:  4.94260\n",
            "infinity norm:  5.39650\n",
            "p:  1 \n",
            "\n",
            "Step:  2\n",
            "x:  Matrix([[1.00000], [0.177504], [0.0245540], [0.897138]])\n",
            "y:  Matrix([[6.31637], [1.12118], [0.155092], [5.66666]])\n",
            "lambda:  6.31637\n",
            "infinity norm:  6.31637\n",
            "p:  1 \n",
            "\n",
            "Step:  3\n",
            "x:  Matrix([[1.00000], [0.108182], [0.00805027], [0.916290]])\n",
            "y:  Matrix([[6.10017], [0.659927], [0.0491081], [5.58953]])\n",
            "lambda:  6.10017\n",
            "infinity norm:  6.10017\n",
            "p:  1 \n",
            "\n",
            "Step:  4\n",
            "x:  Matrix([[1.00000], [0.0690065], [0.00266881], [0.939106]])\n",
            "y:  Matrix([[6.03284], [0.416305], [0.0161005], [5.66548]])\n",
            "lambda:  6.03284\n",
            "infinity norm:  6.03284\n",
            "p:  1 \n",
            "\n",
            "Step:  5\n",
            "x:  Matrix([[1.00000], [0.0450153], [0.000887993], [0.957684]])\n",
            "y:  Matrix([[6.01089], [0.270582], [0.00533763], [5.75653]])\n",
            "lambda:  6.01089\n",
            "infinity norm:  6.01089\n",
            "p:  1 \n",
            "\n",
            "Step:  6\n",
            "x:  Matrix([[1.00000], [0.0296904], [0.000295819], [0.971209]])\n",
            "y:  Matrix([[6.00362], [0.178250], [0.00177599], [5.83077]])\n",
            "lambda:  6.00362\n",
            "infinity norm:  6.00362\n",
            "p:  1 \n",
            "\n",
            "Step:  7\n",
            "x:  Matrix([[1.00000], [0.0196890], [9.85866e-5], [0.980611]])\n",
            "y:  Matrix([[6.00121], [0.118158], [0.000591638], [5.88485]])\n",
            "lambda:  6.00121\n",
            "infinity norm:  6.00121\n",
            "p:  1 \n",
            "\n",
            "Step:  8\n",
            "x:  Matrix([[1.00000], [0.0130916], [3.28600e-5], [0.987008]])\n",
            "y:  Matrix([[6.00040], [0.0785550], [0.000197173], [5.92245]])\n",
            "lambda:  6.00040\n",
            "infinity norm:  6.00040\n",
            "p:  1 \n",
            "\n",
            "Step:  9\n",
            "x:  Matrix([[1.00000], [0.00871639], [1.09531e-5], [0.991317]])\n",
            "y:  Matrix([[6.00013], [0.0522995], [6.57200e-5], [5.94803]])\n",
            "lambda:  6.00013\n",
            "infinity norm:  6.00013\n",
            "p:  1 \n",
            "\n",
            "Step:  10\n",
            "x:  Matrix([[1.00000], [0.00580716], [3.65100e-6], [0.994204]])\n",
            "y:  Matrix([[6.00004], [0.0348432], [2.19062e-5], [5.96527]])\n",
            "lambda:  6.00004\n",
            "infinity norm:  6.00004\n",
            "p:  1 \n",
            "\n",
            "Step:  11\n",
            "x:  Matrix([[1.00000], [0.00387019], [1.21700e-6], [0.996134]])\n",
            "y:  Matrix([[6.00002], [0.0232212], [7.30200e-6], [5.97682]])\n",
            "lambda:  6.00002\n",
            "infinity norm:  6.00002\n",
            "p:  1 \n",
            "\n",
            "Solution:\n",
            "x: Matrix([[1.00000], [0.00387019], [1.21700e-6], [0.996134]]) \n",
            "lamda 6.00002\n"
          ]
        }
      ]
    },
    {
      "cell_type": "markdown",
      "source": [
        "---\n",
        "$$\\textbf{A}=\n",
        "\\begin{bmatrix}\n",
        "    1.36&0.48&0\\\\\n",
        "    0.48&1.64&0\\\\\n",
        "    0&0&3\n",
        "\\end{bmatrix}$$"
      ],
      "metadata": {
        "id": "Ms9E-CAL006H"
      }
    },
    {
      "cell_type": "code",
      "source": [
        "A=sp.Matrix([[1.36,0.48,0],\\\n",
        "      [0.48,1.64,0],\\\n",
        "      [0,0,3]])\n",
        "x0=sp.Matrix(rnd[:3])\n",
        "print(\"x0:\",x0)\n",
        "Nmax=100\n",
        "tol=5*(10**-5)"
      ],
      "metadata": {
        "colab": {
          "base_uri": "https://localhost:8080/"
        },
        "id": "zU50f9Hn1rC0",
        "outputId": "b931a306-2ba7-499b-d06a-16a9d305d726"
      },
      "execution_count": null,
      "outputs": [
        {
          "output_type": "stream",
          "name": "stdout",
          "text": [
            "x0: Matrix([[0.757141673731042], [0.538211577514085], [0.209238907187740]])\n"
          ]
        }
      ]
    },
    {
      "cell_type": "code",
      "source": [
        "[x,l]=power_method(A, x0, Nmax, tol,use_convergence_of_eigenvector=True,log=True)\n",
        "print(\"Solution:\\nx:\",x,\"\\nlamda\",l)"
      ],
      "metadata": {
        "colab": {
          "base_uri": "https://localhost:8080/"
        },
        "id": "wupiwnwJBykH",
        "outputId": "118422ff-5d1e-46c8-b8a1-2d2b7d852ab8"
      },
      "execution_count": null,
      "outputs": [
        {
          "output_type": "stream",
          "name": "stdout",
          "text": [
            "A:  Matrix([[1.36000000000000, 0.480000000000000, 0], [0.480000000000000, 1.64000000000000, 0], [0, 0, 3]])\n",
            "Step: 0\n",
            "x:  Matrix([[0.757142], [0.538212], [0.209239]])\n",
            "infinity norm:  0.757142\n",
            "p:  1 \n",
            "\n",
            "Step:  1\n",
            "x:  Matrix([[1.00000], [0.967424], [0.487337]])\n",
            "y:  Matrix([[1.28805], [1.24609], [0.627717]])\n",
            "lambda:  1.28805\n",
            "infinity norm:  1.28805\n",
            "p:  1 \n",
            "\n",
            "Step:  2\n",
            "x:  Matrix([[0.882795], [1.00000], [0.707456]])\n",
            "y:  Matrix([[1.82436], [2.06658], [1.46201]])\n",
            "lambda:  1.82436\n",
            "infinity norm:  2.06658\n",
            "p:  2 \n",
            "\n",
            "Step:  3\n",
            "x:  Matrix([[0.791852], [0.972377], [1.00000]])\n",
            "y:  Matrix([[1.68060], [2.06374], [2.12237]])\n",
            "lambda:  2.06374\n",
            "infinity norm:  2.12237\n",
            "p:  3 \n",
            "\n",
            "Step:  4\n",
            "x:  Matrix([[0.514553], [0.658262], [1.00000]])\n",
            "y:  Matrix([[1.54366], [1.97479], [3.00000]])\n",
            "lambda:  3.00000\n",
            "infinity norm:  3.00000\n",
            "p:  3 \n",
            "\n",
            "Step:  5\n",
            "x:  Matrix([[0.338586], [0.442179], [1.00000]])\n",
            "y:  Matrix([[1.01576], [1.32654], [3.00000]])\n",
            "lambda:  3.00000\n",
            "infinity norm:  3.00000\n",
            "p:  3 \n",
            "\n",
            "Step:  6\n",
            "x:  Matrix([[0.224241], [0.295898], [1.00000]])\n",
            "y:  Matrix([[0.672723], [0.887694], [3.00000]])\n",
            "lambda:  3.00000\n",
            "infinity norm:  3.00000\n",
            "p:  3 \n",
            "\n",
            "Step:  7\n",
            "x:  Matrix([[0.149000], [0.197636], [1.00000]])\n",
            "y:  Matrix([[0.446999], [0.592909], [3.00000]])\n",
            "lambda:  3.00000\n",
            "infinity norm:  3.00000\n",
            "p:  3 \n",
            "\n",
            "Step:  8\n",
            "x:  Matrix([[0.0991683], [0.131881], [1.00000]])\n",
            "y:  Matrix([[0.297505], [0.395643], [3.00000]])\n",
            "lambda:  3.00000\n",
            "infinity norm:  3.00000\n",
            "p:  3 \n",
            "\n",
            "Step:  9\n",
            "x:  Matrix([[0.0660572], [0.0879619], [1.00000]])\n",
            "y:  Matrix([[0.198172], [0.263886], [3.00000]])\n",
            "lambda:  3.00000\n",
            "infinity norm:  3.00000\n",
            "p:  3 \n",
            "\n",
            "Step:  10\n",
            "x:  Matrix([[0.0440199], [0.0586550], [1.00000]])\n",
            "y:  Matrix([[0.132060], [0.175965], [3.00000]])\n",
            "lambda:  3.00000\n",
            "infinity norm:  3.00000\n",
            "p:  3 \n",
            "\n",
            "Step:  11\n",
            "x:  Matrix([[0.0293405], [0.0391079], [1.00000]])\n",
            "y:  Matrix([[0.0880214], [0.117324], [3.00000]])\n",
            "lambda:  3.00000\n",
            "infinity norm:  3.00000\n",
            "p:  3 \n",
            "\n",
            "Step:  12\n",
            "x:  Matrix([[0.0195583], [0.0260735], [1.00000]])\n",
            "y:  Matrix([[0.0586748], [0.0782204], [3.00000]])\n",
            "lambda:  3.00000\n",
            "infinity norm:  3.00000\n",
            "p:  3 \n",
            "\n",
            "Step:  13\n",
            "x:  Matrix([[0.0130382], [0.0173828], [1.00000]])\n",
            "y:  Matrix([[0.0391145], [0.0521485], [3.00000]])\n",
            "lambda:  3.00000\n",
            "infinity norm:  3.00000\n",
            "p:  3 \n",
            "\n",
            "Step:  14\n",
            "x:  Matrix([[0.00869189], [0.0115887], [1.00000]])\n",
            "y:  Matrix([[0.0260757], [0.0347661], [3.00000]])\n",
            "lambda:  3.00000\n",
            "infinity norm:  3.00000\n",
            "p:  3 \n",
            "\n",
            "Step:  15\n",
            "x:  Matrix([[0.00579452], [0.00772587], [1.00000]])\n",
            "y:  Matrix([[0.0173836], [0.0231776], [3.00000]])\n",
            "lambda:  3.00000\n",
            "infinity norm:  3.00000\n",
            "p:  3 \n",
            "\n",
            "Step:  16\n",
            "x:  Matrix([[0.00386299], [0.00515060], [1.00000]])\n",
            "y:  Matrix([[0.0115890], [0.0154518], [3.00000]])\n",
            "lambda:  3.00000\n",
            "infinity norm:  3.00000\n",
            "p:  3 \n",
            "\n",
            "Step:  17\n",
            "x:  Matrix([[0.00257532], [0.00343374], [1.00000]])\n",
            "y:  Matrix([[0.00772595], [0.0103012], [3.00000]])\n",
            "lambda:  3.00000\n",
            "infinity norm:  3.00000\n",
            "p:  3 \n",
            "\n",
            "Step:  18\n",
            "x:  Matrix([[0.00171687], [0.00228916], [1.00000]])\n",
            "y:  Matrix([[0.00515062], [0.00686748], [3.00000]])\n",
            "lambda:  3.00000\n",
            "infinity norm:  3.00000\n",
            "p:  3 \n",
            "\n",
            "Step:  19\n",
            "x:  Matrix([[0.00114458], [0.00152611], [1.00000]])\n",
            "y:  Matrix([[0.00343375], [0.00457832], [3.00000]])\n",
            "lambda:  3.00000\n",
            "infinity norm:  3.00000\n",
            "p:  3 \n",
            "\n",
            "Step:  20\n",
            "x:  Matrix([[0.000763054], [0.00101741], [1.00000]])\n",
            "y:  Matrix([[0.00228916], [0.00305222], [3.00000]])\n",
            "lambda:  3.00000\n",
            "infinity norm:  3.00000\n",
            "p:  3 \n",
            "\n",
            "Step:  21\n",
            "x:  Matrix([[0.000508703], [0.000678270], [1.00000]])\n",
            "y:  Matrix([[0.00152611], [0.00203481], [3.00000]])\n",
            "lambda:  3.00000\n",
            "infinity norm:  3.00000\n",
            "p:  3 \n",
            "\n",
            "Step:  22\n",
            "x:  Matrix([[0.000339135], [0.000452180], [1.00000]])\n",
            "y:  Matrix([[0.00101741], [0.00135654], [3.00000]])\n",
            "lambda:  3.00000\n",
            "infinity norm:  3.00000\n",
            "p:  3 \n",
            "\n",
            "Step:  23\n",
            "x:  Matrix([[0.000226090], [0.000301454], [1.00000]])\n",
            "y:  Matrix([[0.000678270], [0.000904360], [3.00000]])\n",
            "lambda:  3.00000\n",
            "infinity norm:  3.00000\n",
            "p:  3 \n",
            "\n",
            "Step:  24\n",
            "x:  Matrix([[0.000150727], [0.000200969], [1.00000]])\n",
            "y:  Matrix([[0.000452180], [0.000602907], [3.00000]])\n",
            "lambda:  3.00000\n",
            "infinity norm:  3.00000\n",
            "p:  3 \n",
            "\n",
            "Step:  25\n",
            "x:  Matrix([[0.000100484], [0.000133979], [1.00000]])\n",
            "y:  Matrix([[0.000301454], [0.000401938], [3.00000]])\n",
            "lambda:  3.00000\n",
            "infinity norm:  3.00000\n",
            "p:  3 \n",
            "\n",
            "Step:  26\n",
            "x:  Matrix([[6.69897e-5], [8.93196e-5], [1.00000]])\n",
            "y:  Matrix([[0.000200969], [0.000267959], [3.00000]])\n",
            "lambda:  3.00000\n",
            "infinity norm:  3.00000\n",
            "p:  3 \n",
            "\n",
            "Solution:\n",
            "x: Matrix([[6.69897e-5], [8.93196e-5], [1.00000]]) \n",
            "lamda 3.00000\n"
          ]
        }
      ]
    },
    {
      "cell_type": "code",
      "source": [
        "[x,l]=power_method(A, x0, Nmax, tol,use_convergence_of_eigenvector=False,log=True)\n",
        "print(\"Solution:\\nx:\",x,\"\\nlamda\",l)"
      ],
      "metadata": {
        "colab": {
          "base_uri": "https://localhost:8080/"
        },
        "id": "WfGu78NPByud",
        "outputId": "bb0ee5e6-93ba-4301-b1d7-f6c5f1841b58"
      },
      "execution_count": null,
      "outputs": [
        {
          "output_type": "stream",
          "name": "stdout",
          "text": [
            "A:  Matrix([[1.36000000000000, 0.480000000000000, 0], [0.480000000000000, 1.64000000000000, 0], [0, 0, 3]])\n",
            "Step: 0\n",
            "x:  Matrix([[0.757142], [0.538212], [0.209239]])\n",
            "infinity norm:  0.757142\n",
            "p:  1 \n",
            "\n",
            "Step:  1\n",
            "x:  Matrix([[1.00000], [0.967424], [0.487337]])\n",
            "y:  Matrix([[1.28805], [1.24609], [0.627717]])\n",
            "lambda:  1.28805\n",
            "infinity norm:  1.28805\n",
            "p:  1 \n",
            "\n",
            "Step:  2\n",
            "x:  Matrix([[0.882795], [1.00000], [0.707456]])\n",
            "y:  Matrix([[1.82436], [2.06658], [1.46201]])\n",
            "lambda:  1.82436\n",
            "infinity norm:  2.06658\n",
            "p:  2 \n",
            "\n",
            "Step:  3\n",
            "x:  Matrix([[0.791852], [0.972377], [1.00000]])\n",
            "y:  Matrix([[1.68060], [2.06374], [2.12237]])\n",
            "lambda:  2.06374\n",
            "infinity norm:  2.12237\n",
            "p:  3 \n",
            "\n",
            "Step:  4\n",
            "x:  Matrix([[0.514553], [0.658262], [1.00000]])\n",
            "y:  Matrix([[1.54366], [1.97479], [3.00000]])\n",
            "lambda:  3.00000\n",
            "infinity norm:  3.00000\n",
            "p:  3 \n",
            "\n",
            "Step:  5\n",
            "x:  Matrix([[0.338586], [0.442179], [1.00000]])\n",
            "y:  Matrix([[1.01576], [1.32654], [3.00000]])\n",
            "lambda:  3.00000\n",
            "infinity norm:  3.00000\n",
            "p:  3 \n",
            "\n",
            "Solution:\n",
            "x: Matrix([[0.338586], [0.442179], [1.00000]]) \n",
            "lamda 3.00000\n"
          ]
        }
      ]
    },
    {
      "cell_type": "markdown",
      "source": [
        "---\n",
        "$$\\textbf{A}=\n",
        "\\begin{bmatrix}\n",
        "    5.5&-2.5&-2.5&-1.5\\\\\n",
        "    -2.5&5.5&1.5&2.5\\\\\n",
        "    -2.5&1.5&5.5&2.5\\\\\n",
        "    -1.5&2.5&2.5&5.5\n",
        "\\end{bmatrix}$$"
      ],
      "metadata": {
        "id": "AzHqHbHcdjn0"
      }
    },
    {
      "cell_type": "code",
      "source": [
        "A=sp.Matrix([[5.5,-2.5,-2.5,-1.5],\\\n",
        "      [-2.5,5.5,1.5,2.5],\\\n",
        "      [-2.5,1.5,5.5,2.5],\\\n",
        "      [-1.5,2.5,2.5,5.5]])\n",
        "x0=sp.Matrix([1,1,1,1])\n",
        "print(\"x0:\",x0)\n",
        "Nmax=100\n",
        "tol=5*(10**-5)"
      ],
      "metadata": {
        "colab": {
          "base_uri": "https://localhost:8080/"
        },
        "id": "UyJPTWcId5c-",
        "outputId": "f19f3c99-2aa7-4463-be27-3d3cd653d98b"
      },
      "execution_count": null,
      "outputs": [
        {
          "output_type": "stream",
          "name": "stdout",
          "text": [
            "x0: Matrix([[1], [1], [1], [1]])\n"
          ]
        }
      ]
    },
    {
      "cell_type": "code",
      "source": [
        "[x,l]=power_method(A, x0, Nmax, tol,use_convergence_of_eigenvector=True,log=True)\n",
        "print(\"Solution:\\nx:\",x,\"\\nlamda\",l)"
      ],
      "metadata": {
        "colab": {
          "base_uri": "https://localhost:8080/"
        },
        "id": "lQ0yaHxbem3u",
        "outputId": "658afd38-cc4c-404a-9344-2edd611193e4"
      },
      "execution_count": null,
      "outputs": [
        {
          "output_type": "stream",
          "name": "stdout",
          "text": [
            "A:  Matrix([[5.50000000000000, -2.50000000000000, -2.50000000000000, -1.50000000000000], [-2.50000000000000, 5.50000000000000, 1.50000000000000, 2.50000000000000], [-2.50000000000000, 1.50000000000000, 5.50000000000000, 2.50000000000000], [-1.50000000000000, 2.50000000000000, 2.50000000000000, 5.50000000000000]])\n",
            "Step: 0\n",
            "x:  Matrix([[1.00000], [1.00000], [1.00000], [1.00000]])\n",
            "infinity norm:  1.00000\n",
            "p:  1 \n",
            "\n",
            "Step:  1\n",
            "x:  Matrix([[-0.111111], [0.777778], [0.777778], [1.00000]])\n",
            "y:  Matrix([[-1.00000], [7.00000], [7.00000], [9.00000]])\n",
            "lambda:  -1.00000\n",
            "infinity norm:  9.00000\n",
            "p:  4 \n",
            "\n",
            "Step:  2\n",
            "x:  Matrix([[-0.627907], [0.860465], [0.860465], [1.00000]])\n",
            "y:  Matrix([[-6.00000], [8.22222], [8.22222], [9.55556]])\n",
            "lambda:  9.55556\n",
            "infinity norm:  9.55556\n",
            "p:  4 \n",
            "\n",
            "Step:  3\n",
            "x:  Matrix([[-0.861472], [0.939394], [0.939394], [1.00000]])\n",
            "y:  Matrix([[-9.25581], [10.0930], [10.0930], [10.7442]])\n",
            "lambda:  10.7442\n",
            "infinity norm:  10.7442\n",
            "p:  4 \n",
            "\n",
            "Step:  4\n",
            "x:  Matrix([[-0.951771], [0.977393], [0.977393], [1.00000]])\n",
            "y:  Matrix([[-10.9351], [11.2294], [11.2294], [11.4892]])\n",
            "lambda:  11.4892\n",
            "infinity norm:  11.4892\n",
            "p:  4 \n",
            "\n",
            "Step:  5\n",
            "x:  Matrix([[-0.983671], [0.992091], [0.992091], [1.00000]])\n",
            "y:  Matrix([[-11.6217], [11.7212], [11.7212], [11.8146]])\n",
            "lambda:  11.8146\n",
            "infinity norm:  11.8146\n",
            "p:  4 \n",
            "\n",
            "Step:  6\n",
            "x:  Matrix([[-0.994528], [0.997307], [0.997307], [1.00000]])\n",
            "y:  Matrix([[-11.8706], [11.9038], [11.9038], [11.9360]])\n",
            "lambda:  11.9360\n",
            "infinity norm:  11.9360\n",
            "p:  4 \n",
            "\n",
            "Step:  7\n",
            "x:  Matrix([[-0.998173], [0.999094], [0.999094], [1.00000]])\n",
            "y:  Matrix([[-11.9564], [11.9675], [11.9675], [11.9783]])\n",
            "lambda:  11.9783\n",
            "infinity norm:  11.9783\n",
            "p:  4 \n",
            "\n",
            "Step:  8\n",
            "x:  Matrix([[-0.999390], [0.999696], [0.999696], [1.00000]])\n",
            "y:  Matrix([[-11.9854], [11.9891], [11.9891], [11.9927]])\n",
            "lambda:  11.9927\n",
            "infinity norm:  11.9927\n",
            "p:  4 \n",
            "\n",
            "Step:  9\n",
            "x:  Matrix([[-0.999797], [0.999899], [0.999899], [1.00000]])\n",
            "y:  Matrix([[-11.9951], [11.9964], [11.9964], [11.9976]])\n",
            "lambda:  11.9976\n",
            "infinity norm:  11.9976\n",
            "p:  4 \n",
            "\n",
            "Step:  10\n",
            "x:  Matrix([[-0.999932], [0.999966], [0.999966], [1.00000]])\n",
            "y:  Matrix([[-11.9984], [11.9988], [11.9988], [11.9992]])\n",
            "lambda:  11.9992\n",
            "infinity norm:  11.9992\n",
            "p:  4 \n",
            "\n",
            "Step:  11\n",
            "x:  Matrix([[-0.999977], [0.999989], [0.999989], [1.00000]])\n",
            "y:  Matrix([[-11.9995], [11.9996], [11.9996], [11.9997]])\n",
            "lambda:  11.9997\n",
            "infinity norm:  11.9997\n",
            "p:  4 \n",
            "\n",
            "Solution:\n",
            "x: Matrix([[-0.999977], [0.999989], [0.999989], [1.00000]]) \n",
            "lamda 11.9997\n"
          ]
        }
      ]
    }
  ]
}