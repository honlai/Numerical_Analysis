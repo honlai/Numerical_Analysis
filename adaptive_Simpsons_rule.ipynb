{
  "nbformat": 4,
  "nbformat_minor": 0,
  "metadata": {
    "colab": {
      "provenance": [],
      "authorship_tag": "ABX9TyNr4pSXJ/BohbaYBBU6bGgu"
    },
    "kernelspec": {
      "name": "python3",
      "display_name": "Python 3"
    },
    "language_info": {
      "name": "python"
    }
  },
  "cells": [
    {
      "cell_type": "code",
      "execution_count": 45,
      "metadata": {
        "id": "fcMopOGAUvQW"
      },
      "outputs": [],
      "source": [
        "import sympy\n",
        "from sympy import *\n",
        "global function_evaluations\n",
        "function_evaluations=0\n",
        "def adaptive_Simpsons_rule(arg_f,a,b,symbol,tol=5*(10**(-11)),log=False):\n",
        "  fa=arg_f.subs({symbol: a})\n",
        "  fc=arg_f.subs({symbol: ((a+b)/2)})\n",
        "  fb=arg_f.subs({symbol: b})\n",
        "  global function_evaluations\n",
        "  function_evaluations+=3\n",
        "  Sab=(b-a)*(fa+4*fc+fb)/6\n",
        "  return adaptive_Simpsons_rule1(arg_f,Sab,fa,fc,fb,a,b,symbol,tol,log)\n",
        "def adaptive_Simpsons_rule1(arg_f,Sab,fa,fc,fb,a,b,symbol,tol=2.5*(10**(-11)),log=False):\n",
        "  c=((a+b)/2)\n",
        "  fd=arg_f.subs({symbol: ((a+c)/2)})\n",
        "  fe=arg_f.subs({symbol: ((c+b)/2)})\n",
        "  global function_evaluations\n",
        "  function_evaluations+=2\n",
        "  Sac=(c-a)*(fa+4*fd+fc)/6\n",
        "  Scb=(b-c)*(fc+4*fe+fb)/6\n",
        "  if abs(Sac+Scb-Sab)/10 < tol:\n",
        "    return (Sac + Scb)\n",
        "  else:\n",
        "    return (adaptive_Simpsons_rule1(arg_f,Sac,fa,fd,fc,a,c,symbol,tol/2,log)+adaptive_Simpsons_rule1(arg_f,Scb,fc,fe,fb,c,b,symbol,tol/2,log))"
      ]
    },
    {
      "cell_type": "markdown",
      "source": [
        "###Example1\n",
        "$$\n",
        "I(f)=\\int_{0}^{1} \\frac{2}{2+\\sin(10\\pi x)} \\,dx\n",
        "$$"
      ],
      "metadata": {
        "id": "amA-I8NiYGup"
      }
    },
    {
      "cell_type": "code",
      "source": [
        "function_evaluations=0\n",
        "x=symbols('x')\n",
        "pi=3.14159265358979\n",
        "f=2/(2+sin(10*pi*x))\n",
        "print(f)"
      ],
      "metadata": {
        "colab": {
          "base_uri": "https://localhost:8080/"
        },
        "id": "Uo7nSNciX6h5",
        "outputId": "4488d14a-ca9b-49e3-b82f-ef1af46463d7"
      },
      "execution_count": 46,
      "outputs": [
        {
          "output_type": "stream",
          "name": "stdout",
          "text": [
            "2/(sin(31.4159265358979*x) + 2)\n"
          ]
        }
      ]
    },
    {
      "cell_type": "code",
      "source": [
        "adaptive_Simpsons_rule(f,a=0,b=1,symbol=x,tol=5*(10**(-11)),log=False)"
      ],
      "metadata": {
        "colab": {
          "base_uri": "https://localhost:8080/",
          "height": 37
        },
        "id": "HUKLZcPPaSrq",
        "outputId": "be3a0003-c20f-424d-9734-984dedd584ef"
      },
      "execution_count": 47,
      "outputs": [
        {
          "output_type": "execute_result",
          "data": {
            "text/plain": [
              "1.15470053837936"
            ],
            "text/latex": "$\\displaystyle 1.15470053837936$"
          },
          "metadata": {},
          "execution_count": 47
        }
      ]
    },
    {
      "cell_type": "code",
      "source": [
        "function_evaluations"
      ],
      "metadata": {
        "colab": {
          "base_uri": "https://localhost:8080/"
        },
        "id": "MApc8NiMbZhj",
        "outputId": "8b6116b2-f3b1-4c82-f377-da8ecb577595"
      },
      "execution_count": 48,
      "outputs": [
        {
          "output_type": "execute_result",
          "data": {
            "text/plain": [
              "5593"
            ]
          },
          "metadata": {},
          "execution_count": 48
        }
      ]
    },
    {
      "cell_type": "markdown",
      "source": [
        "###Example2\n",
        "$$\n",
        "I(f)=5 \\int_{0}^{0.2} \\frac{2}{2+\\sin(10\\pi x)} \\,dx\\\\\n",
        "=\\int_{0}^{0.2} \\frac{10}{2+\\sin(10\\pi x)} \\,dx\n",
        "$$"
      ],
      "metadata": {
        "id": "z2iF2bg2YjxO"
      }
    },
    {
      "cell_type": "code",
      "source": [
        "function_evaluations=0\n",
        "x=symbols('x')\n",
        "pi=3.14159265358979\n",
        "f=10/(2+sin(10*pi*x))\n",
        "print(f)"
      ],
      "metadata": {
        "colab": {
          "base_uri": "https://localhost:8080/"
        },
        "id": "2DhndpQIdVnf",
        "outputId": "3f67a866-4cfb-4752-c790-cde2c3c1c284"
      },
      "execution_count": 49,
      "outputs": [
        {
          "output_type": "stream",
          "name": "stdout",
          "text": [
            "10/(sin(31.4159265358979*x) + 2)\n"
          ]
        }
      ]
    },
    {
      "cell_type": "code",
      "source": [
        "adaptive_Simpsons_rule(f,a=0,b=0.2,symbol=x,tol=5*(10**(-11)),log=False)"
      ],
      "metadata": {
        "colab": {
          "base_uri": "https://localhost:8080/",
          "height": 37
        },
        "id": "IgkKF8c2dZh6",
        "outputId": "37e17fa9-da1b-4bcc-8730-0188d50fb618"
      },
      "execution_count": 50,
      "outputs": [
        {
          "output_type": "execute_result",
          "data": {
            "text/plain": [
              "1.15470053838787"
            ],
            "text/latex": "$\\displaystyle 1.15470053838787$"
          },
          "metadata": {},
          "execution_count": 50
        }
      ]
    },
    {
      "cell_type": "code",
      "source": [
        "function_evaluations"
      ],
      "metadata": {
        "colab": {
          "base_uri": "https://localhost:8080/"
        },
        "id": "7Y66YT78dagf",
        "outputId": "2991b4e8-18e7-42c0-b9b4-6256c0d8139a"
      },
      "execution_count": 51,
      "outputs": [
        {
          "output_type": "execute_result",
          "data": {
            "text/plain": [
              "1041"
            ]
          },
          "metadata": {},
          "execution_count": 51
        }
      ]
    }
  ]
}